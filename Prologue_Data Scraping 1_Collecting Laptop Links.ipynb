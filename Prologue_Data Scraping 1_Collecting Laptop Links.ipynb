{
 "cells": [
  {
   "cell_type": "markdown",
   "metadata": {},
   "source": [
    "## Import Libraries"
   ]
  },
  {
   "cell_type": "code",
   "execution_count": 4,
   "metadata": {},
   "outputs": [],
   "source": [
    "from selenium import webdriver\n",
    "from selenium.webdriver.common.by import By\n",
    "from selenium.webdriver.support.ui import WebDriverWait\n",
    "from selenium.webdriver.support import expected_conditions as EC\n",
    "from bs4 import BeautifulSoup\n",
    "import pandas as pd\n",
    "import time\n",
    "import random"
   ]
  },
  {
   "attachments": {},
   "cell_type": "markdown",
   "metadata": {},
   "source": [
    "## Open the browser and get the URL"
   ]
  },
  {
   "cell_type": "code",
   "execution_count": 5,
   "metadata": {},
   "outputs": [],
   "source": [
    "# Get the browser and open the URL\n",
    "driver = webdriver.Chrome()\n",
    "url = \"https://www.smartprix.com/laptops/utility-gaming\"\n",
    "driver.get(url)"
   ]
  },
  {
   "attachments": {},
   "cell_type": "markdown",
   "metadata": {},
   "source": [
    "## Autoclick the \"load more\" button 180 times in the browser"
   ]
  },
  {
   "cell_type": "code",
   "execution_count": 6,
   "metadata": {},
   "outputs": [
    {
     "name": "stdout",
     "output_type": "stream",
     "text": [
      "179\r"
     ]
    }
   ],
   "source": [
    "# At this step, I was going to click the \"load more\" button to make the laptop information's link visible because it was scripted in a hidden html at first.\n",
    "# On the actual webpage, it actually requires less than 180 clicks and the efficient code can save more time.\n",
    "# I didn't realize it until I had finished the code.\n",
    "wait = WebDriverWait(driver, 10)\n",
    "for i in range(180):\n",
    "    wait.until(EC.element_to_be_clickable((By.XPATH,\"//div[.=' Load More']\"))).click()\n",
    "    time.sleep(random.randint(5,10))\n",
    "    print(i, end=\"\\r\")"
   ]
  },
  {
   "attachments": {},
   "cell_type": "markdown",
   "metadata": {},
   "source": [
    "## Get the laptop information's links for available laptops and out of stock laptops"
   ]
  },
  {
   "cell_type": "code",
   "execution_count": 7,
   "metadata": {},
   "outputs": [],
   "source": [
    "# Collecting page source from the website\n",
    "content = driver.page_source  \n",
    "soup = BeautifulSoup(content)"
   ]
  },
  {
   "cell_type": "code",
   "execution_count": 15,
   "metadata": {},
   "outputs": [],
   "source": [
    "# Avail_laptop stands for Laptop which avaible at the time and OOS means Out of Stock\n",
    "# I distinguished those two links by availability because they contains different HTML attributes\n",
    "avail_laptop_lists = soup.find_all('div', attrs={'sm-product has-tag has-features has-actions'})\n",
    "oos_laptop_lists = soup.find_all('div', attrs={'sm-product has-tag oos has-features has-actions'})"
   ]
  },
  {
   "cell_type": "code",
   "execution_count": 27,
   "metadata": {},
   "outputs": [
    {
     "name": "stdout",
     "output_type": "stream",
     "text": [
      "Jumlah link laptop avail adalah 618\n",
      "Jumlah link laptop oos adalah 402\n"
     ]
    }
   ],
   "source": [
    "# At this step, I was collecting every links which direct the user to a webpage that contains more informations about a specific laptop\n",
    "link_list_avail = []\n",
    "for i in avail_laptop_lists:\n",
    "    linkedavail = \"www.smartprix.com\" + i.find('a')['href']\n",
    "    link_list_avail.append(linkedavail)\n",
    "link_list_oos = []\n",
    "for i in oos_laptop_lists:\n",
    "    linkedoos = \"www.smartprix.com\" + i.find('a')['href']\n",
    "    link_list_oos.append(linkedoos)\n",
    "print(\"Jumlah link laptop avail adalah \" + str(len(link_list_avail)))\n",
    "print(\"Jumlah link laptop oos adalah \" + str(len(link_list_oos)))"
   ]
  },
  {
   "cell_type": "markdown",
   "metadata": {},
   "source": [
    "## Export the data"
   ]
  },
  {
   "cell_type": "code",
   "execution_count": 28,
   "metadata": {},
   "outputs": [],
   "source": [
    "# Convert the list of links to a dataframe\n",
    "link_list_avail = pd.DataFrame(link_list_avail, columns=['Link Laptop Available'])\n",
    "link_list_oos = pd.DataFrame(link_list_oos, columns=['Link Laptop Out of Stock'])"
   ]
  },
  {
   "cell_type": "code",
   "execution_count": null,
   "metadata": {},
   "outputs": [],
   "source": [
    "# Export the dataframe containing laptop link informations to a CSV format file\n",
    "link_list_avail.to_csv('linklaptopavail.csv')\n",
    "link_list_oos.to_csv('linklaptopoos.csv')"
   ]
  }
 ],
 "metadata": {
  "kernelspec": {
   "display_name": "base",
   "language": "python",
   "name": "python3"
  },
  "language_info": {
   "codemirror_mode": {
    "name": "ipython",
    "version": 3
   },
   "file_extension": ".py",
   "mimetype": "text/x-python",
   "name": "python",
   "nbconvert_exporter": "python",
   "pygments_lexer": "ipython3",
   "version": "3.9.12 (main, Apr  4 2022, 05:22:27) [MSC v.1916 64 bit (AMD64)]"
  },
  "orig_nbformat": 4,
  "vscode": {
   "interpreter": {
    "hash": "88279d2366fe020547cde40dd65aa0e3aa662a6ec1f3ca12d88834876c85e1a6"
   }
  }
 },
 "nbformat": 4,
 "nbformat_minor": 2
}
