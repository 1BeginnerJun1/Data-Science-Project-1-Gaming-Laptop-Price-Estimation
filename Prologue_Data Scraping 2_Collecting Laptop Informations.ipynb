{
 "cells": [
  {
   "attachments": {},
   "cell_type": "markdown",
   "metadata": {},
   "source": [
    "## Import Libraries"
   ]
  },
  {
   "cell_type": "code",
   "execution_count": 1,
   "metadata": {},
   "outputs": [],
   "source": [
    "import requests\n",
    "from selenium import webdriver\n",
    "from selenium.webdriver.common.by import By\n",
    "from selenium.webdriver.support.ui import WebDriverWait\n",
    "from selenium.webdriver.support import expected_conditions as EC\n",
    "from bs4 import BeautifulSoup\n",
    "import pandas as pd\n",
    "import time\n",
    "import random"
   ]
  },
  {
   "attachments": {},
   "cell_type": "markdown",
   "metadata": {},
   "source": [
    "## Import CSV Data"
   ]
  },
  {
   "cell_type": "code",
   "execution_count": 2,
   "metadata": {},
   "outputs": [],
   "source": [
    "listlaptopavail = pd.read_csv('linklaptopavail.csv')\n",
    "listlaptopoos =  pd.read_csv('linklaptopoos.csv')"
   ]
  },
  {
   "attachments": {},
   "cell_type": "markdown",
   "metadata": {},
   "source": [
    "## Adding \"https://\" in front of every Single Laptop Links"
   ]
  },
  {
   "cell_type": "code",
   "execution_count": 3,
   "metadata": {},
   "outputs": [],
   "source": [
    "laptopavail = list(listlaptopavail['Link Laptop Available'].apply(lambda x : 'https://'+x))\n",
    "laptopoos = list(listlaptopoos['Link Laptop Out of Stock'].apply(lambda x : 'https://'+x))\n",
    "# One should know that without adding 'https://', the website wouldn't run. \n",
    "# While the datas read from csv are presented in the form of www.smartprix.com/(address), we should add 'https://' first in front of every single links provided by the datas."
   ]
  },
  {
   "attachments": {},
   "cell_type": "markdown",
   "metadata": {},
   "source": [
    "## Mining Required Information for the Laptop from \"out of stock laptop\" Link List"
   ]
  },
  {
   "cell_type": "code",
   "execution_count": 6,
   "metadata": {},
   "outputs": [
    {
     "name": "stdout",
     "output_type": "stream",
     "text": [
      "402 website\r"
     ]
    }
   ],
   "source": [
    "# The laptop's specification was written in the 'td' and 'span' HTML element.\n",
    "# This step was used to retrieve laptop's specification along with its price, because the price itself was written in a different HTML element.\n",
    "# Note that the step below was still using only Out of Stock laptop link.\n",
    "driver = webdriver.Chrome()\n",
    "finalData = pd.DataFrame()\n",
    "count = 0\n",
    "for url in laptopoos:\n",
    "    driver.get(url)\n",
    "    content = driver.page_source  \n",
    "    soup = BeautifulSoup(content)\n",
    "    note = {}\n",
    "    note['Laptop Brand'] = list(soup.find('div', attrs={'class':'pg-prd-head'}).find('h1'))[0].split()[0]\n",
    "    note['Price'] = list(soup.find('div', attrs={'liner'}))[0]\n",
    "    driver.find_element(By.XPATH,\"//b[.='VIEW FULL SPECS →']\").click()\n",
    "    content = driver.page_source  \n",
    "    soup = BeautifulSoup(content)\n",
    "    table = soup.find_all('div', attrs={'class':'sm-fullspecs-grp'})\n",
    "    for div in table:\n",
    "        trlist = div.find('table').find('tbody').find_all('tr')\n",
    "        for tr in trlist:\n",
    "            key = list(tr.find('td'))[0]\n",
    "            value = list(tr.find('span'))[0]\n",
    "            note[key] = [value]\n",
    "    noteData = pd.DataFrame(note)\n",
    "    finalData = pd.concat([finalData,noteData], axis=0, ignore_index=True)\n",
    "    time.sleep(random.randint(6,11))\n",
    "    count += 1\n",
    "    print(str(count) + \" website\", end='\\r')\n",
    "    "
   ]
  },
  {
   "attachments": {},
   "cell_type": "markdown",
   "metadata": {},
   "source": [
    "## Export Information of all \"Out of Stock\" Laptops into CSV Format File"
   ]
  },
  {
   "cell_type": "code",
   "execution_count": null,
   "metadata": {},
   "outputs": [],
   "source": [
    "# Export the laptop specifications list to CSV format\n",
    "finalData.to_csv('Data Laptop OOS.csv')"
   ]
  },
  {
   "attachments": {},
   "cell_type": "markdown",
   "metadata": {},
   "source": [
    "## Mining required information for the laptop from the \"available laptop\" link list"
   ]
  },
  {
   "cell_type": "code",
   "execution_count": null,
   "metadata": {},
   "outputs": [],
   "source": [
    "# This is the same as previous step\n",
    "driver = webdriver.Chrome()\n",
    "finalData = pd.DataFrame()\n",
    "count = 0\n",
    "for url in laptopavail:\n",
    "    driver.get(url)\n",
    "    content = driver.page_source  \n",
    "    soup = BeautifulSoup(content)\n",
    "    note = {}\n",
    "    note['Laptop Brand'] = list(soup.find('div', attrs={'class':'pg-prd-head'}).find('h1'))[0].split()[0]\n",
    "    note['Price'] = list(soup.find('div', attrs={'liner'}))[0]\n",
    "    driver.find_element(By.XPATH,\"//b[.='VIEW FULL SPECS →']\").click()\n",
    "    content = driver.page_source  \n",
    "    soup = BeautifulSoup(content)\n",
    "    table = soup.find_all('div', attrs={'class':'sm-fullspecs-grp'})\n",
    "    for div in table:\n",
    "        trlist = div.find('table').find('tbody').find_all('tr')\n",
    "        for tr in trlist:\n",
    "            key = list(tr.find('td'))[0]\n",
    "            value = list(tr.find('span'))[0]\n",
    "            note[key] = [value]\n",
    "    noteData = pd.DataFrame(note)\n",
    "    finalData = pd.concat([finalData,noteData], axis=0, ignore_index=True)\n",
    "    time.sleep(random.randint(6,11))\n",
    "    count += 1\n",
    "    print(str(count) + \" website\", end='\\r')"
   ]
  },
  {
   "attachments": {},
   "cell_type": "markdown",
   "metadata": {},
   "source": [
    "## Export Information of all \"Available\" Laptops into CSV Format File"
   ]
  },
  {
   "cell_type": "code",
   "execution_count": null,
   "metadata": {},
   "outputs": [],
   "source": [
    "# Export the laptop specifications list to CSV format\n",
    "finalData.to_csv(\"Data Laptop Avail.csv\")"
   ]
  }
 ],
 "metadata": {
  "kernelspec": {
   "display_name": "base",
   "language": "python",
   "name": "python3"
  },
  "language_info": {
   "codemirror_mode": {
    "name": "ipython",
    "version": 3
   },
   "file_extension": ".py",
   "mimetype": "text/x-python",
   "name": "python",
   "nbconvert_exporter": "python",
   "pygments_lexer": "ipython3",
   "version": "3.9.12 (main, Apr  4 2022, 05:22:27) [MSC v.1916 64 bit (AMD64)]"
  },
  "orig_nbformat": 4,
  "vscode": {
   "interpreter": {
    "hash": "88279d2366fe020547cde40dd65aa0e3aa662a6ec1f3ca12d88834876c85e1a6"
   }
  }
 },
 "nbformat": 4,
 "nbformat_minor": 2
}
