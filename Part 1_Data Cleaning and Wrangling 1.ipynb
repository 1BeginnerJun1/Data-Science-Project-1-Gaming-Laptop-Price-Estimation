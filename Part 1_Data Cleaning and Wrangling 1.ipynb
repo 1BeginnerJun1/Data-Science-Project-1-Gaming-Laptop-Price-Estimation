{
 "cells": [
  {
   "cell_type": "markdown",
   "metadata": {},
   "source": [
    "## Import Libraries"
   ]
  },
  {
   "cell_type": "code",
   "execution_count": 1,
   "metadata": {},
   "outputs": [],
   "source": [
    "import numpy as np\n",
    "import pandas as pd\n",
    "import matplotlib.pyplot as plt\n",
    "import seaborn as sns\n",
    "%matplotlib inline"
   ]
  },
  {
   "cell_type": "markdown",
   "metadata": {},
   "source": [
    "## Read Datas"
   ]
  },
  {
   "cell_type": "code",
   "execution_count": 2,
   "metadata": {},
   "outputs": [],
   "source": [
    "# Before reading the data into Python, there was a few of datas being corrected in the excel. This is why it was named with \"(Corrected)\"\n",
    "data_avail_laptops = pd.read_csv(\"Data Laptop Avail (Corrected).csv\")\n",
    "data_oos_laptops = pd.read_csv(\"Data Laptop OOS (Corrected).csv\")"
   ]
  },
  {
   "cell_type": "code",
   "execution_count": 3,
   "metadata": {},
   "outputs": [],
   "source": [
    "data_laptops = pd.concat([data_avail_laptops,data_oos_laptops], axis=0, ignore_index=True)"
   ]
  },
  {
   "cell_type": "code",
   "execution_count": 4,
   "metadata": {},
   "outputs": [],
   "source": [
    "data_laptops.drop(\"Unnamed: 0\", axis=1, inplace=True)"
   ]
  },
  {
   "attachments": {},
   "cell_type": "markdown",
   "metadata": {},
   "source": [
    "## Data Cleaning : Start"
   ]
  },
  {
   "attachments": {},
   "cell_type": "markdown",
   "metadata": {},
   "source": [
    "#### Explore number of rows and columns of the data"
   ]
  },
  {
   "cell_type": "code",
   "execution_count": 5,
   "metadata": {},
   "outputs": [
    {
     "name": "stdout",
     "output_type": "stream",
     "text": [
      "<class 'pandas.core.frame.DataFrame'>\n",
      "RangeIndex: 1020 entries, 0 to 1019\n",
      "Data columns (total 73 columns):\n",
      " #   Column                 Non-Null Count  Dtype \n",
      "---  ------                 --------------  ----- \n",
      " 0   Laptop Brand           1020 non-null   object\n",
      " 1   Price                  1020 non-null   object\n",
      " 2   Series                 1018 non-null   object\n",
      " 3   Model                  1020 non-null   object\n",
      " 4   Utility                1020 non-null   object\n",
      " 5   Device Type            980 non-null    object\n",
      " 6   OS                     1020 non-null   object\n",
      " 7   Dimensions             884 non-null    object\n",
      " 8   Weight                 943 non-null    object\n",
      " 9   Warranty               1020 non-null   object\n",
      " 10  Type                   976 non-null    object\n",
      " 11  Touch                  1020 non-null   object\n",
      " 12  Size                   1017 non-null   object\n",
      " 13  Resolution             1019 non-null   object\n",
      " 14  PPI                    1016 non-null   object\n",
      " 15  Anti Glare Screen      1020 non-null   object\n",
      " 16  Features               819 non-null    object\n",
      " 17  Ethernet               783 non-null    object\n",
      " 18  WiFi                   1020 non-null   object\n",
      " 19  Bluetooth              1020 non-null   object\n",
      " 20  USB Ports              1020 non-null   object\n",
      " 21  HDMI                   987 non-null    object\n",
      " 22  Card Reader            432 non-null    object\n",
      " 23  Microphone In          987 non-null    object\n",
      " 24  Headphone Jack         819 non-null    object\n",
      " 25  Camera                 1020 non-null   object\n",
      " 26  Keyboard               872 non-null    object\n",
      " 27  Keyboard Backlit       943 non-null    object\n",
      " 28  Touchpad               1020 non-null   object\n",
      " 29  Inbuilt Microphone     998 non-null    object\n",
      " 30  Speakers               897 non-null    object\n",
      " 31  Sound                  655 non-null    object\n",
      " 32  Optical Drive          1020 non-null   object\n",
      " 33  Processor              1020 non-null   object\n",
      " 34  Speed                  1014 non-null   object\n",
      " 35  Cache                  995 non-null    object\n",
      " 36  Brand                  1020 non-null   object\n",
      " 37  Generation             979 non-null    object\n",
      " 38  GPU                    1019 non-null   object\n",
      " 39  Dedicated Memory       989 non-null    object\n",
      " 40  RAM                    1020 non-null   object\n",
      " 41  RAM Bus Speed          692 non-null    object\n",
      " 42  Maximum RAM Supported  386 non-null    object\n",
      " 43  Solid State Drive      966 non-null    object\n",
      " 44  SSD Interface          4 non-null      object\n",
      " 45  Battery                794 non-null    object\n",
      " 46  Included Software      349 non-null    object\n",
      " 47  Sales Package          822 non-null    object\n",
      " 48  Other Features         499 non-null    object\n",
      " 49  Thunderbolt            120 non-null    object\n",
      " 50  Fingerprint Sensor     99 non-null     object\n",
      " 51  Security Lock Port     271 non-null    object\n",
      " 52  RAM Slots              551 non-null    object\n",
      " 53  Chipset                178 non-null    object\n",
      " 54  Hard Disk Capacity     248 non-null    object\n",
      " 55  Battery Backup         335 non-null    object\n",
      " 56  Aspect Ratio           336 non-null    object\n",
      " 57  Adapter Type           389 non-null    object\n",
      " 58  Hard Disk Speed        172 non-null    object\n",
      " 59  Country of Origin      8 non-null      object\n",
      " 60  Refresh Rate           6 non-null      object\n",
      " 61  USB Port Details       4 non-null      object\n",
      " 62  Battery Details        5 non-null      object\n",
      " 63  Other Ports            4 non-null      object\n",
      " 64  Optane Memory          5 non-null      object\n",
      " 65  Max SSD Supported      1 non-null      object\n",
      " 66  Display Port           4 non-null      object\n",
      " 67  Micro SD Card Reader   4 non-null      object\n",
      " 68  Hard Disk Interface    59 non-null     object\n",
      " 69  Rear Camera            2 non-null      object\n",
      " 70  GPU Clock Speed        8 non-null      object\n",
      " 71  VGA                    3 non-null      object\n",
      " 72  Optical Drive Speed    5 non-null      object\n",
      "dtypes: object(73)\n",
      "memory usage: 581.8+ KB\n"
     ]
    }
   ],
   "source": [
    "# Note that Datatype is still in object format for all columns\n",
    "data_laptops.info()"
   ]
  },
  {
   "cell_type": "code",
   "execution_count": 6,
   "metadata": {},
   "outputs": [
    {
     "data": {
      "text/plain": [
       "(1020, 73)"
      ]
     },
     "execution_count": 6,
     "metadata": {},
     "output_type": "execute_result"
    }
   ],
   "source": [
    "data_laptops.shape"
   ]
  },
  {
   "attachments": {},
   "cell_type": "markdown",
   "metadata": {},
   "source": [
    "## Data Cleaning : Drop Columns with Missing Values more than 30% of the Length of Data"
   ]
  },
  {
   "cell_type": "code",
   "execution_count": 7,
   "metadata": {},
   "outputs": [],
   "source": [
    "# The raw datas contained more than 70 columns and some of them has a lot of missing values\n",
    "# To simplify the process, I was going to drop some columns especially those with null values more than 30% of the length of datas\n",
    "for i in data_laptops.columns:\n",
    "    null_percent = data_laptops[i].isnull().sum()/len(data_laptops[i])\n",
    "    if null_percent > 0.3:\n",
    "        data_laptops.drop(i, axis=1, inplace=True)"
   ]
  },
  {
   "cell_type": "code",
   "execution_count": 8,
   "metadata": {},
   "outputs": [
    {
     "name": "stdout",
     "output_type": "stream",
     "text": [
      "The amount of columns left are 42\n"
     ]
    }
   ],
   "source": [
    "print(\"The amount of columns left are \" + str(len(data_laptops.columns)))"
   ]
  },
  {
   "cell_type": "code",
   "execution_count": 9,
   "metadata": {},
   "outputs": [
    {
     "data": {
      "text/html": [
       "<div>\n",
       "<style scoped>\n",
       "    .dataframe tbody tr th:only-of-type {\n",
       "        vertical-align: middle;\n",
       "    }\n",
       "\n",
       "    .dataframe tbody tr th {\n",
       "        vertical-align: top;\n",
       "    }\n",
       "\n",
       "    .dataframe thead th {\n",
       "        text-align: right;\n",
       "    }\n",
       "</style>\n",
       "<table border=\"1\" class=\"dataframe\">\n",
       "  <thead>\n",
       "    <tr style=\"text-align: right;\">\n",
       "      <th></th>\n",
       "      <th>Laptop Brand</th>\n",
       "      <th>Price</th>\n",
       "      <th>Series</th>\n",
       "      <th>Model</th>\n",
       "      <th>Utility</th>\n",
       "      <th>Device Type</th>\n",
       "      <th>OS</th>\n",
       "      <th>Dimensions</th>\n",
       "      <th>Weight</th>\n",
       "      <th>Warranty</th>\n",
       "      <th>Type</th>\n",
       "      <th>Touch</th>\n",
       "      <th>Size</th>\n",
       "      <th>Resolution</th>\n",
       "      <th>PPI</th>\n",
       "      <th>Anti Glare Screen</th>\n",
       "      <th>Features</th>\n",
       "      <th>Ethernet</th>\n",
       "    </tr>\n",
       "  </thead>\n",
       "  <tbody>\n",
       "    <tr>\n",
       "      <th>Amount of missing datas</th>\n",
       "      <td>0</td>\n",
       "      <td>0</td>\n",
       "      <td>2</td>\n",
       "      <td>0</td>\n",
       "      <td>0</td>\n",
       "      <td>40</td>\n",
       "      <td>0</td>\n",
       "      <td>136</td>\n",
       "      <td>77</td>\n",
       "      <td>0</td>\n",
       "      <td>44</td>\n",
       "      <td>0</td>\n",
       "      <td>3</td>\n",
       "      <td>1</td>\n",
       "      <td>4</td>\n",
       "      <td>0</td>\n",
       "      <td>201</td>\n",
       "      <td>237</td>\n",
       "    </tr>\n",
       "  </tbody>\n",
       "</table>\n",
       "</div>"
      ],
      "text/plain": [
       "                         Laptop Brand  Price  Series  Model  Utility  \\\n",
       "Amount of missing datas             0      0       2      0        0   \n",
       "\n",
       "                         Device Type  OS  Dimensions  Weight  Warranty  Type  \\\n",
       "Amount of missing datas           40   0         136      77         0    44   \n",
       "\n",
       "                         Touch  Size  Resolution  PPI  Anti Glare Screen  \\\n",
       "Amount of missing datas      0     3           1    4                  0   \n",
       "\n",
       "                         Features  Ethernet  \n",
       "Amount of missing datas       201       237  "
      ]
     },
     "execution_count": 9,
     "metadata": {},
     "output_type": "execute_result"
    }
   ],
   "source": [
    "pd.DataFrame(data_laptops.isnull().sum(), columns=['Amount of missing datas']).iloc[:18].transpose()"
   ]
  },
  {
   "cell_type": "code",
   "execution_count": 10,
   "metadata": {},
   "outputs": [
    {
     "data": {
      "text/html": [
       "<div>\n",
       "<style scoped>\n",
       "    .dataframe tbody tr th:only-of-type {\n",
       "        vertical-align: middle;\n",
       "    }\n",
       "\n",
       "    .dataframe tbody tr th {\n",
       "        vertical-align: top;\n",
       "    }\n",
       "\n",
       "    .dataframe thead th {\n",
       "        text-align: right;\n",
       "    }\n",
       "</style>\n",
       "<table border=\"1\" class=\"dataframe\">\n",
       "  <thead>\n",
       "    <tr style=\"text-align: right;\">\n",
       "      <th></th>\n",
       "      <th>WiFi</th>\n",
       "      <th>Bluetooth</th>\n",
       "      <th>USB Ports</th>\n",
       "      <th>HDMI</th>\n",
       "      <th>Microphone In</th>\n",
       "      <th>Headphone Jack</th>\n",
       "      <th>Camera</th>\n",
       "      <th>Keyboard</th>\n",
       "      <th>Keyboard Backlit</th>\n",
       "      <th>Touchpad</th>\n",
       "      <th>Inbuilt Microphone</th>\n",
       "      <th>Speakers</th>\n",
       "      <th>Optical Drive</th>\n",
       "      <th>Processor</th>\n",
       "      <th>Speed</th>\n",
       "      <th>Cache</th>\n",
       "      <th>Brand</th>\n",
       "      <th>Generation</th>\n",
       "    </tr>\n",
       "  </thead>\n",
       "  <tbody>\n",
       "    <tr>\n",
       "      <th>Amount of loss datas</th>\n",
       "      <td>0</td>\n",
       "      <td>0</td>\n",
       "      <td>0</td>\n",
       "      <td>33</td>\n",
       "      <td>33</td>\n",
       "      <td>201</td>\n",
       "      <td>0</td>\n",
       "      <td>148</td>\n",
       "      <td>77</td>\n",
       "      <td>0</td>\n",
       "      <td>22</td>\n",
       "      <td>123</td>\n",
       "      <td>0</td>\n",
       "      <td>0</td>\n",
       "      <td>6</td>\n",
       "      <td>25</td>\n",
       "      <td>0</td>\n",
       "      <td>41</td>\n",
       "    </tr>\n",
       "  </tbody>\n",
       "</table>\n",
       "</div>"
      ],
      "text/plain": [
       "                      WiFi  Bluetooth  USB Ports  HDMI  Microphone In  \\\n",
       "Amount of loss datas     0          0          0    33             33   \n",
       "\n",
       "                      Headphone Jack  Camera  Keyboard  Keyboard Backlit  \\\n",
       "Amount of loss datas             201       0       148                77   \n",
       "\n",
       "                      Touchpad  Inbuilt Microphone  Speakers  Optical Drive  \\\n",
       "Amount of loss datas         0                  22       123              0   \n",
       "\n",
       "                      Processor  Speed  Cache  Brand  Generation  \n",
       "Amount of loss datas          0      6     25      0          41  "
      ]
     },
     "execution_count": 10,
     "metadata": {},
     "output_type": "execute_result"
    }
   ],
   "source": [
    "pd.DataFrame(data_laptops.isnull().sum(), columns=['Amount of loss datas']).iloc[18:36].transpose()"
   ]
  },
  {
   "cell_type": "code",
   "execution_count": 11,
   "metadata": {},
   "outputs": [
    {
     "data": {
      "text/html": [
       "<div>\n",
       "<style scoped>\n",
       "    .dataframe tbody tr th:only-of-type {\n",
       "        vertical-align: middle;\n",
       "    }\n",
       "\n",
       "    .dataframe tbody tr th {\n",
       "        vertical-align: top;\n",
       "    }\n",
       "\n",
       "    .dataframe thead th {\n",
       "        text-align: right;\n",
       "    }\n",
       "</style>\n",
       "<table border=\"1\" class=\"dataframe\">\n",
       "  <thead>\n",
       "    <tr style=\"text-align: right;\">\n",
       "      <th></th>\n",
       "      <th>GPU</th>\n",
       "      <th>Dedicated Memory</th>\n",
       "      <th>RAM</th>\n",
       "      <th>Solid State Drive</th>\n",
       "      <th>Battery</th>\n",
       "      <th>Sales Package</th>\n",
       "    </tr>\n",
       "  </thead>\n",
       "  <tbody>\n",
       "    <tr>\n",
       "      <th>Amount of loss datas</th>\n",
       "      <td>1</td>\n",
       "      <td>31</td>\n",
       "      <td>0</td>\n",
       "      <td>54</td>\n",
       "      <td>226</td>\n",
       "      <td>198</td>\n",
       "    </tr>\n",
       "  </tbody>\n",
       "</table>\n",
       "</div>"
      ],
      "text/plain": [
       "                      GPU  Dedicated Memory  RAM  Solid State Drive  Battery  \\\n",
       "Amount of loss datas    1                31    0                 54      226   \n",
       "\n",
       "                      Sales Package  \n",
       "Amount of loss datas            198  "
      ]
     },
     "execution_count": 11,
     "metadata": {},
     "output_type": "execute_result"
    }
   ],
   "source": [
    "pd.DataFrame(data_laptops.isnull().sum(), columns=['Amount of loss datas']).iloc[36:].transpose()"
   ]
  },
  {
   "attachments": {},
   "cell_type": "markdown",
   "metadata": {},
   "source": [
    "## Data Cleaning :  Drop Unnecessary and Fix Columns with no Null Values"
   ]
  },
  {
   "attachments": {},
   "cell_type": "markdown",
   "metadata": {},
   "source": [
    "#### Explore columns and correcting them"
   ]
  },
  {
   "cell_type": "code",
   "execution_count": 12,
   "metadata": {},
   "outputs": [
    {
     "data": {
      "text/html": [
       "<div>\n",
       "<style scoped>\n",
       "    .dataframe tbody tr th:only-of-type {\n",
       "        vertical-align: middle;\n",
       "    }\n",
       "\n",
       "    .dataframe tbody tr th {\n",
       "        vertical-align: top;\n",
       "    }\n",
       "\n",
       "    .dataframe thead th {\n",
       "        text-align: right;\n",
       "    }\n",
       "</style>\n",
       "<table border=\"1\" class=\"dataframe\">\n",
       "  <thead>\n",
       "    <tr style=\"text-align: right;\">\n",
       "      <th></th>\n",
       "      <th>Laptop Brand</th>\n",
       "      <th>Price</th>\n",
       "      <th>Model</th>\n",
       "      <th>Utility</th>\n",
       "      <th>OS</th>\n",
       "      <th>Warranty</th>\n",
       "      <th>Touch</th>\n",
       "      <th>Anti Glare Screen</th>\n",
       "      <th>WiFi</th>\n",
       "      <th>Bluetooth</th>\n",
       "      <th>USB Ports</th>\n",
       "      <th>Camera</th>\n",
       "      <th>Touchpad</th>\n",
       "      <th>Optical Drive</th>\n",
       "      <th>Processor</th>\n",
       "      <th>Brand</th>\n",
       "      <th>RAM</th>\n",
       "    </tr>\n",
       "  </thead>\n",
       "  <tbody>\n",
       "    <tr>\n",
       "      <th>0</th>\n",
       "      <td>HP</td>\n",
       "      <td>₹49,990</td>\n",
       "      <td>5600H</td>\n",
       "      <td>Gaming</td>\n",
       "      <td>Windows 10 Home (64-bit)</td>\n",
       "      <td>1 year Onsite Warranty</td>\n",
       "      <td>No</td>\n",
       "      <td>Yes</td>\n",
       "      <td>RTL8822CE 802.11a/b/g/n/ac (2x2)</td>\n",
       "      <td>v5</td>\n",
       "      <td>1 x USB Type-C, 1 x USB 2.0</td>\n",
       "      <td>Yes</td>\n",
       "      <td>HP Imagepad with Multi-Touch Gesture Support</td>\n",
       "      <td>No</td>\n",
       "      <td>AMD Ryzen 5</td>\n",
       "      <td>NVIDIA</td>\n",
       "      <td>8 GB DDR4</td>\n",
       "    </tr>\n",
       "    <tr>\n",
       "      <th>1</th>\n",
       "      <td>Acer</td>\n",
       "      <td>₹54,990</td>\n",
       "      <td>1240P</td>\n",
       "      <td>Everyday Use, Gaming, Business, Performance</td>\n",
       "      <td>Windows 11 Home (64-bit)</td>\n",
       "      <td>1 year Warranty</td>\n",
       "      <td>No</td>\n",
       "      <td>No</td>\n",
       "      <td>802.11a/b/g/n+ax wireless LAN</td>\n",
       "      <td>v5.2</td>\n",
       "      <td>1 x USB Type-C, 3 x USB 3.0</td>\n",
       "      <td>Yes</td>\n",
       "      <td>Touchpad with Multi-touch Gesture Support</td>\n",
       "      <td>No</td>\n",
       "      <td>Intel Core i5</td>\n",
       "      <td>NVIDIA</td>\n",
       "      <td>8 GB DDR4</td>\n",
       "    </tr>\n",
       "    <tr>\n",
       "      <th>2</th>\n",
       "      <td>Acer</td>\n",
       "      <td>₹59,990</td>\n",
       "      <td>1240P</td>\n",
       "      <td>Everyday Use, Gaming, Business, Performance</td>\n",
       "      <td>Windows 11 Home (64-bit)</td>\n",
       "      <td>1 year Warranty</td>\n",
       "      <td>No</td>\n",
       "      <td>No</td>\n",
       "      <td>802.11a/b/g/n+ax wireless LAN</td>\n",
       "      <td>v5.2</td>\n",
       "      <td>1 x USB Type-C, 3 x USB 3.0</td>\n",
       "      <td>Yes</td>\n",
       "      <td>Touchpad with Multi-touch Gesture Support</td>\n",
       "      <td>No</td>\n",
       "      <td>Intel Core i5</td>\n",
       "      <td>NVIDIA</td>\n",
       "      <td>8 GB DDR4</td>\n",
       "    </tr>\n",
       "    <tr>\n",
       "      <th>3</th>\n",
       "      <td>Lenovo</td>\n",
       "      <td>₹56,500</td>\n",
       "      <td>11320H</td>\n",
       "      <td>Gaming</td>\n",
       "      <td>Windows 11 Home (64-bit)</td>\n",
       "      <td>1 year Warranty</td>\n",
       "      <td>No</td>\n",
       "      <td>Yes</td>\n",
       "      <td>Wi-Fi 6 (802.11ax) 2 x 2</td>\n",
       "      <td>v5</td>\n",
       "      <td>1 x USB Type-C, 2 x USB 3.0</td>\n",
       "      <td>Yes</td>\n",
       "      <td>Yes</td>\n",
       "      <td>No</td>\n",
       "      <td>Intel Core i5</td>\n",
       "      <td>NVIDIA</td>\n",
       "      <td>8 GB DDR4</td>\n",
       "    </tr>\n",
       "    <tr>\n",
       "      <th>4</th>\n",
       "      <td>Asus</td>\n",
       "      <td>₹54,990</td>\n",
       "      <td>5600H</td>\n",
       "      <td>Gaming</td>\n",
       "      <td>Windows 11 Home (64-bit)</td>\n",
       "      <td>1 year Onsite Warranty</td>\n",
       "      <td>No</td>\n",
       "      <td>Yes</td>\n",
       "      <td>Wi-Fi 6(802.11ax)</td>\n",
       "      <td>v5</td>\n",
       "      <td>1 x USB Type-C, 2 x USB 3.0, 1 x USB 2.0</td>\n",
       "      <td>Yes</td>\n",
       "      <td>Yes</td>\n",
       "      <td>No</td>\n",
       "      <td>AMD Ryzen 5</td>\n",
       "      <td>AMD</td>\n",
       "      <td>16 GB DDR4</td>\n",
       "    </tr>\n",
       "    <tr>\n",
       "      <th>5</th>\n",
       "      <td>HP</td>\n",
       "      <td>₹78,990</td>\n",
       "      <td>12450H</td>\n",
       "      <td>Gaming</td>\n",
       "      <td>Windows 11 Home (64-bit)</td>\n",
       "      <td>1 year Warranty</td>\n",
       "      <td>No</td>\n",
       "      <td>Yes</td>\n",
       "      <td>Yes</td>\n",
       "      <td>v5</td>\n",
       "      <td>1 x USB Type-C, 1 x USB 3.0</td>\n",
       "      <td>Yes</td>\n",
       "      <td>Precision Touchpad Support\\n</td>\n",
       "      <td>No</td>\n",
       "      <td>Intel Core i5</td>\n",
       "      <td>NVIDIA</td>\n",
       "      <td>16 GB DDR4</td>\n",
       "    </tr>\n",
       "    <tr>\n",
       "      <th>6</th>\n",
       "      <td>Lenovo</td>\n",
       "      <td>₹51,990</td>\n",
       "      <td>11320H</td>\n",
       "      <td>Gaming</td>\n",
       "      <td>Windows 11 Home (64-bit)</td>\n",
       "      <td>Onsite Warranty + 1 Year Premium Care + 1 Year...</td>\n",
       "      <td>No</td>\n",
       "      <td>Yes</td>\n",
       "      <td>Wi-Fi 6 11ax, 2x2</td>\n",
       "      <td>v5</td>\n",
       "      <td>1 x USB Type-C, 2 x USB 3.0, 1 x USB 2.0</td>\n",
       "      <td>Yes</td>\n",
       "      <td>Yes</td>\n",
       "      <td>No</td>\n",
       "      <td>Intel Core i5</td>\n",
       "      <td>NVIDIA</td>\n",
       "      <td>8 GB DDR4</td>\n",
       "    </tr>\n",
       "    <tr>\n",
       "      <th>7</th>\n",
       "      <td>MSI</td>\n",
       "      <td>₹59,990</td>\n",
       "      <td>11800H</td>\n",
       "      <td>Gaming, Performance</td>\n",
       "      <td>Windows 10 Home (64-bit)</td>\n",
       "      <td>2 years Warranty</td>\n",
       "      <td>No</td>\n",
       "      <td>Yes</td>\n",
       "      <td>6</td>\n",
       "      <td>v5.2</td>\n",
       "      <td>1 x USB Type-C, 3 x USB 3.0</td>\n",
       "      <td>Yes</td>\n",
       "      <td>Yes</td>\n",
       "      <td>No</td>\n",
       "      <td>Intel Core i7</td>\n",
       "      <td>NVIDIA</td>\n",
       "      <td>8 GB DDR4</td>\n",
       "    </tr>\n",
       "  </tbody>\n",
       "</table>\n",
       "</div>"
      ],
      "text/plain": [
       "  Laptop Brand    Price   Model                                      Utility  \\\n",
       "0           HP  ₹49,990   5600H                                       Gaming   \n",
       "1         Acer  ₹54,990   1240P  Everyday Use, Gaming, Business, Performance   \n",
       "2         Acer  ₹59,990   1240P  Everyday Use, Gaming, Business, Performance   \n",
       "3       Lenovo  ₹56,500  11320H                                       Gaming   \n",
       "4         Asus  ₹54,990   5600H                                       Gaming   \n",
       "5           HP  ₹78,990  12450H                                       Gaming   \n",
       "6       Lenovo  ₹51,990  11320H                                       Gaming   \n",
       "7          MSI  ₹59,990  11800H                          Gaming, Performance   \n",
       "\n",
       "                         OS  \\\n",
       "0  Windows 10 Home (64-bit)   \n",
       "1  Windows 11 Home (64-bit)   \n",
       "2  Windows 11 Home (64-bit)   \n",
       "3  Windows 11 Home (64-bit)   \n",
       "4  Windows 11 Home (64-bit)   \n",
       "5  Windows 11 Home (64-bit)   \n",
       "6  Windows 11 Home (64-bit)   \n",
       "7  Windows 10 Home (64-bit)   \n",
       "\n",
       "                                            Warranty Touch Anti Glare Screen  \\\n",
       "0                             1 year Onsite Warranty    No               Yes   \n",
       "1                                    1 year Warranty    No                No   \n",
       "2                                    1 year Warranty    No                No   \n",
       "3                                    1 year Warranty    No               Yes   \n",
       "4                             1 year Onsite Warranty    No               Yes   \n",
       "5                                    1 year Warranty    No               Yes   \n",
       "6  Onsite Warranty + 1 Year Premium Care + 1 Year...    No               Yes   \n",
       "7                                   2 years Warranty    No               Yes   \n",
       "\n",
       "                               WiFi Bluetooth  \\\n",
       "0  RTL8822CE 802.11a/b/g/n/ac (2x2)        v5   \n",
       "1     802.11a/b/g/n+ax wireless LAN      v5.2   \n",
       "2     802.11a/b/g/n+ax wireless LAN      v5.2   \n",
       "3          Wi-Fi 6 (802.11ax) 2 x 2        v5   \n",
       "4                 Wi-Fi 6(802.11ax)        v5   \n",
       "5                               Yes        v5   \n",
       "6                 Wi-Fi 6 11ax, 2x2        v5   \n",
       "7                                 6      v5.2   \n",
       "\n",
       "                                  USB Ports Camera  \\\n",
       "0               1 x USB Type-C, 1 x USB 2.0    Yes   \n",
       "1               1 x USB Type-C, 3 x USB 3.0    Yes   \n",
       "2               1 x USB Type-C, 3 x USB 3.0    Yes   \n",
       "3               1 x USB Type-C, 2 x USB 3.0    Yes   \n",
       "4  1 x USB Type-C, 2 x USB 3.0, 1 x USB 2.0    Yes   \n",
       "5               1 x USB Type-C, 1 x USB 3.0    Yes   \n",
       "6  1 x USB Type-C, 2 x USB 3.0, 1 x USB 2.0    Yes   \n",
       "7               1 x USB Type-C, 3 x USB 3.0    Yes   \n",
       "\n",
       "                                       Touchpad Optical Drive      Processor  \\\n",
       "0  HP Imagepad with Multi-Touch Gesture Support            No   AMD Ryzen 5    \n",
       "1     Touchpad with Multi-touch Gesture Support            No  Intel Core i5   \n",
       "2     Touchpad with Multi-touch Gesture Support            No  Intel Core i5   \n",
       "3                                           Yes            No  Intel Core i5   \n",
       "4                                           Yes            No    AMD Ryzen 5   \n",
       "5                  Precision Touchpad Support\\n            No  Intel Core i5   \n",
       "6                                           Yes            No  Intel Core i5   \n",
       "7                                           Yes            No  Intel Core i7   \n",
       "\n",
       "    Brand         RAM  \n",
       "0  NVIDIA   8 GB DDR4  \n",
       "1  NVIDIA   8 GB DDR4  \n",
       "2  NVIDIA   8 GB DDR4  \n",
       "3  NVIDIA   8 GB DDR4  \n",
       "4     AMD  16 GB DDR4  \n",
       "5  NVIDIA  16 GB DDR4  \n",
       "6  NVIDIA   8 GB DDR4  \n",
       "7  NVIDIA   8 GB DDR4  "
      ]
     },
     "execution_count": 12,
     "metadata": {},
     "output_type": "execute_result"
    }
   ],
   "source": [
    "# There were some columns that have no null values\n",
    "no_null_list = []\n",
    "for i in data_laptops.columns:\n",
    "    if data_laptops[i].isnull().sum() == 0:\n",
    "        no_null_list.append(i)\n",
    "data_laptops[no_null_list].head(8)"
   ]
  },
  {
   "cell_type": "code",
   "execution_count": 13,
   "metadata": {},
   "outputs": [
    {
     "name": "stdout",
     "output_type": "stream",
     "text": [
      "Total of unique variables in the columns Laptop Brand are 16\n",
      "Total of unique variables in the columns Price are 611\n",
      "Total of unique variables in the columns Model are 145\n",
      "Total of unique variables in the columns Utility are 8\n",
      "Total of unique variables in the columns OS are 37\n",
      "Total of unique variables in the columns Warranty are 27\n",
      "Total of unique variables in the columns Touch are 2\n",
      "Total of unique variables in the columns Anti Glare Screen are 2\n",
      "Total of unique variables in the columns WiFi are 155\n",
      "Total of unique variables in the columns Bluetooth are 8\n",
      "Total of unique variables in the columns USB Ports are 42\n",
      "Total of unique variables in the columns Camera are 28\n",
      "Total of unique variables in the columns Touchpad are 63\n",
      "Total of unique variables in the columns Optical Drive are 4\n",
      "Total of unique variables in the columns Processor are 72\n",
      "Total of unique variables in the columns Brand are 11\n",
      "Total of unique variables in the columns RAM are 28\n"
     ]
    }
   ],
   "source": [
    "# Lets check how many missing values are on each column\n",
    "for i in data_laptops[no_null_list].columns:\n",
    "    print(\"Total of unique variables in the columns \" + i + \" are \" + str(len(data_laptops[i].unique())))"
   ]
  },
  {
   "cell_type": "code",
   "execution_count": 14,
   "metadata": {},
   "outputs": [
    {
     "data": {
      "text/plain": [
       "array([ 9425614.5, 10368364.5, 11311114.5, 10653075. , 14893564.5])"
      ]
     },
     "execution_count": 14,
     "metadata": {},
     "output_type": "execute_result"
    }
   ],
   "source": [
    "# Changed the price column from string format to numeric format and converted it to Indonesia currency\n",
    "data_laptops['Price'] = data_laptops['Price'].apply(lambda x: int(''.join([i for i in list(x) if i.isnumeric()]))*188.55)\n",
    "data_laptops['Price'].unique()[:5]"
   ]
  },
  {
   "cell_type": "code",
   "execution_count": 15,
   "metadata": {},
   "outputs": [
    {
     "data": {
      "text/plain": [
       "array(['HP', 'Acer', 'Lenovo', 'Asus', 'MSI', 'Dell', 'Gigabyte',\n",
       "       'Panasonic', 'AGB', 'Razer', 'ASUS', 'LG', 'Alienware', 'Mechrevo',\n",
       "       'Microsoft', 'Xiaomi'], dtype=object)"
      ]
     },
     "execution_count": 15,
     "metadata": {},
     "output_type": "execute_result"
    }
   ],
   "source": [
    "data_laptops['Laptop Brand'].unique()"
   ]
  },
  {
   "cell_type": "code",
   "execution_count": 16,
   "metadata": {},
   "outputs": [
    {
     "data": {
      "text/plain": [
       "Asus         383\n",
       "MSI          147\n",
       "HP           139\n",
       "Lenovo       128\n",
       "Dell         101\n",
       "Acer          97\n",
       "Gigabyte       9\n",
       "AGB            3\n",
       "Razer          3\n",
       "Mechrevo       3\n",
       "ASUS           2\n",
       "Panasonic      1\n",
       "LG             1\n",
       "Alienware      1\n",
       "Microsoft      1\n",
       "Xiaomi         1\n",
       "Name: Laptop Brand, dtype: int64"
      ]
     },
     "execution_count": 16,
     "metadata": {},
     "output_type": "execute_result"
    }
   ],
   "source": [
    "data_laptops['Laptop Brand'].value_counts()"
   ]
  },
  {
   "cell_type": "code",
   "execution_count": 17,
   "metadata": {},
   "outputs": [],
   "source": [
    "# There were overlaping value in asus because of the difference in writting\n",
    "data_laptops['Laptop Brand'] = ['ASUS' if x.lower() == 'asus' else x for x in data_laptops['Laptop Brand']]"
   ]
  },
  {
   "cell_type": "code",
   "execution_count": 18,
   "metadata": {},
   "outputs": [],
   "source": [
    "# Some of the laptops had only 1 value, so I was going to drop them\n",
    "unwanted_laptop_brand = ['Panasonic','LG','Alienware','Microsoft','Xiaomi']\n",
    "wanted_laptop_brand = [x for x in list(data_laptops['Laptop Brand'].unique()) if x not in unwanted_laptop_brand]"
   ]
  },
  {
   "cell_type": "code",
   "execution_count": 19,
   "metadata": {},
   "outputs": [],
   "source": [
    "data_laptops = data_laptops[data_laptops['Laptop Brand'].isin(wanted_laptop_brand)]"
   ]
  },
  {
   "cell_type": "code",
   "execution_count": 20,
   "metadata": {},
   "outputs": [
    {
     "data": {
      "text/plain": [
       "ASUS        385\n",
       "MSI         147\n",
       "HP          139\n",
       "Lenovo      128\n",
       "Dell        101\n",
       "Acer         97\n",
       "Gigabyte      9\n",
       "AGB           3\n",
       "Razer         3\n",
       "Mechrevo      3\n",
       "Name: Laptop Brand, dtype: int64"
      ]
     },
     "execution_count": 20,
     "metadata": {},
     "output_type": "execute_result"
    }
   ],
   "source": [
    "data_laptops['Laptop Brand'].value_counts()"
   ]
  },
  {
   "cell_type": "code",
   "execution_count": 21,
   "metadata": {},
   "outputs": [
    {
     "data": {
      "text/plain": [
       "array(['Windows 10 Home (64-bit)', 'Windows 11 Home (64-bit)',\n",
       "       'Windows 11 (64-bit)', 'Windows 11 Hom (64-bit)',\n",
       "       'Windows 10 Home, (64-bit)', 'Windows 11 Home, (64-bit)',\n",
       "       'Windows 10 Pro (64-bit)', 'Windows 11 Pro (64-bit)',\n",
       "       'Windows 10 Home\\t (64-bit)', 'Windows 10 Home\\n (64-bit)',\n",
       "       'Windows 10 (64-bit)', 'Windows 11 Home, Windows 11 (64-bit)',\n",
       "       'Windows 11 Home Basic (64-bit)',\n",
       "       'Windows 11 Home, Windows 11 Home (64-bit)', 'Windows 10 Home',\n",
       "       'Windows 10 Home Edition (64-bit)',\n",
       "       'Windows 10 Home, Windows 10 Home 64-bit',\n",
       "       'Windows 10, Windows 10 (64-bit)',\n",
       "       'Windows 10 Home, Windows 10 (64-bit)',\n",
       "       'Windows 10 Home, Windows 10 Home 64-bit (64-bit)',\n",
       "       'Windows 10 Home Basic (64-bit)',\n",
       "       'Windows 10 Home, Windows 10 Home (64-bit)',\n",
       "       'Windows 10 Home  (64-bit)', 'DOS FreeDos', 'Windows 10  (64-bit)',\n",
       "       'Windows 10 Professional (64-bit)', 'Windows 10',\n",
       "       'Windows 10\\t (64-bit)', 'Windows 11 Home',\n",
       "       'Windows 10 Mobile (64-bit)', 'Free DOS', 'Windows 10 Pro',\n",
       "       'Windows 10 (10-bit)', 'DOS', 'Windows 10 Home Plus',\n",
       "       'Windows 10 Home Premium (64-bit)', 'DOS (64-bit)'], dtype=object)"
      ]
     },
     "execution_count": 21,
     "metadata": {},
     "output_type": "execute_result"
    }
   ],
   "source": [
    "# There were a lot of unique values which have the same meaning but in different writing order.\n",
    "# I was going to deal with this type of error in the next few steps.\n",
    "data_laptops['OS'].unique()"
   ]
  },
  {
   "cell_type": "code",
   "execution_count": 22,
   "metadata": {},
   "outputs": [],
   "source": [
    "# Collect unique values which had the same meaning and converted it to a more consistent writing order\n",
    "def windowsConvert(i):\n",
    "    i = i.lower()\n",
    "    if '10' in i:\n",
    "        if 'pro' in i:\n",
    "            return 'Windows 10 Pro'\n",
    "        elif 'hom' in i:\n",
    "            return 'Windows 10 Home'\n",
    "        else:\n",
    "            return 'Windows 10'\n",
    "    elif '11' in i:\n",
    "        if 'pro' in i:\n",
    "            return 'Windows 11 Pro'\n",
    "        elif 'hom' in i:\n",
    "            return 'Windows 11 Home'\n",
    "        else:\n",
    "            return 'Windows 11'\n",
    "    else: \n",
    "        return 'DOS'\n",
    "data_laptops['OS'] = [windowsConvert(x) for x in data_laptops['OS']]"
   ]
  },
  {
   "cell_type": "code",
   "execution_count": 23,
   "metadata": {},
   "outputs": [
    {
     "data": {
      "text/plain": [
       "Windows 10 Home    580\n",
       "Windows 11 Home    319\n",
       "Windows 10          70\n",
       "Windows 11          25\n",
       "Windows 10 Pro      15\n",
       "DOS                  5\n",
       "Windows 11 Pro       1\n",
       "Name: OS, dtype: int64"
      ]
     },
     "execution_count": 23,
     "metadata": {},
     "output_type": "execute_result"
    }
   ],
   "source": [
    "data_laptops['OS'].value_counts()"
   ]
  },
  {
   "cell_type": "code",
   "execution_count": 24,
   "metadata": {},
   "outputs": [
    {
     "data": {
      "text/plain": [
       "array(['1 year Onsite Warranty', '1 year Warranty',\n",
       "       'Onsite Warranty + 1 Year Premium Care + 1 Year Accidentaly Damage Protection',\n",
       "       '2 years Warranty', 'No Warranty',\n",
       "       'Warranty + 1 Year ADP + 1 Year Premium Care',\n",
       "       '3 years Onsite Warranty', '1 Year',\n",
       "       'One-year International Travelers ', 'One year',\n",
       "       '3 years Warranty', '1 Year Warranty', '2 Year Warranty',\n",
       "       '1 Year Onsite Warranty',\n",
       "       '1 Year International Travelers Warranty (ITW)',\n",
       "       'International Travelers Warranty',\n",
       "       'Standard Parts, Labor and on-site limited warranty (1-1-1) depending on country (upgrades available) 1 year limited warranty on primary battery.',\n",
       "       'Manufacturer Warranty, Repair, Manufactuer defect, Other then manufacturer defect',\n",
       "       'Onsite, Manufacturing Defects, Physical Damage, 1 Year Domestic Warranty, 1 Year International Warranty',\n",
       "       '2 Years Carry In Warranty', '1 Year manufaturer warranty',\n",
       "       '2 Year Global Warranty by Asus', '2 Years Onsite Warranty',\n",
       "       '2 year global manufacturing warranty',\n",
       "       '2 Years Global Manufacturing Warranty', '1 Year Brand Warranty',\n",
       "       '3 Years Onsite Warranty'], dtype=object)"
      ]
     },
     "execution_count": 24,
     "metadata": {},
     "output_type": "execute_result"
    }
   ],
   "source": [
    "# This step was the same as the step before\n",
    "data_laptops['Warranty'].unique()"
   ]
  },
  {
   "cell_type": "code",
   "execution_count": 25,
   "metadata": {},
   "outputs": [],
   "source": [
    "# Collect unique values which had the same meaning and converted it to a more consistent writing order\n",
    "def warrantyConvert(i):\n",
    "    i = i.lower()\n",
    "    if '1' in i.split() or 'one' in i.split():\n",
    "        return 1\n",
    "    elif '2' in i.split() or 'two' in i.split():\n",
    "        return 2\n",
    "    elif '3' in i.split() or 'three' in i.split():\n",
    "        return 3\n",
    "    elif 'no warranty' in i:\n",
    "        return 0\n",
    "    else:\n",
    "        return 1\n",
    "data_laptops['Warranty'] = data_laptops['Warranty'].apply(lambda x : warrantyConvert(x))"
   ]
  },
  {
   "cell_type": "code",
   "execution_count": 26,
   "metadata": {},
   "outputs": [
    {
     "data": {
      "text/plain": [
       "1    865\n",
       "2    120\n",
       "0     22\n",
       "3      8\n",
       "Name: Warranty, dtype: int64"
      ]
     },
     "execution_count": 26,
     "metadata": {},
     "output_type": "execute_result"
    }
   ],
   "source": [
    "data_laptops['Warranty'].value_counts()"
   ]
  },
  {
   "cell_type": "code",
   "execution_count": 27,
   "metadata": {},
   "outputs": [
    {
     "data": {
      "text/plain": [
       "array(['RTL8822CE 802.11a/b/g/n/ac (2x2)',\n",
       "       '802.11a/b/g/n+ax wireless LAN', 'Wi-Fi 6 (802.11ax) 2 x 2',\n",
       "       'Wi-Fi 6(802.11ax)', 'Yes', 'Wi-Fi 6 11ax, 2x2', '6', '11ac (2x2)',\n",
       "       'Intel Wi-Fi 6 AX201 (2x2)', 'IEEE 802.11a/b/g/n/ac/ax',\n",
       "       'Intel Wireless Wi-Fi 6E AX211',\n",
       "       'Wi-Fi 6(802.11ax) Dual band) 2x2', 'Realtek Wi-Fi 6 (1x2)',\n",
       "       'Wi-Fi 6(802.11ax) Dual band) 2*2', '11ax, 2x2',\n",
       "       'Mediatek Wi-Fi 6E MT7922 (2 x 2)',\n",
       "       '802.11a/b/g/n+ax Wireless LAN, Wi-Fi M.2 (NGFF) 2230 PCI-E Interface',\n",
       "       'Realtek Wi-Fi 6 (2x2)', 'Intel Wi-Fi 6 AX200 (2*2 ax)',\n",
       "       '802.11ax', 'Wi-Fi 6E', 'Intel Wi-Fi 6 AX 201 (2x2)',\n",
       "       'Intel Wi-Fi 6 AX201(2 x 2 ax)',\n",
       "       '802.11 ax Wi-Fi 6E, 802.11 ax Wi-Fi 6E',\n",
       "       'Killer Wireless Wi-Fi 6E 1675i',\n",
       "       '802.11a/b/g/n/acR2+ax wireless LAN',\n",
       "       'Wi-Fi 6(802.11ax) Bluetooth 5.1 (Dual band), Wi-Fi 6(802.11ax)+Bluetooth 5.1 (Dual band)',\n",
       "       'Intel Wi-Fi 6 AX201(2*2 ax)', '802.11 ax',\n",
       "       'Intel Wi-Fi 6 AX201(2x2 ax)', 'Killer Wi-Fi 6 AX1650 (2x2)',\n",
       "       '802.11 a/b/g/n/ac', 'RJ-45 Killer E3100 2.5Gbps',\n",
       "       'AMD Wi-Fi 6E RZ608', 'Wi-Fi 6E AX211 (2x2)',\n",
       "       'Wi-Fi 6E(802.11ax) Dual band) 2x2', 'Wi-Fi 6E AX211 (2x2',\n",
       "       'Wi-Fi 6 (802.11ax) Dual band) 2 x 2',\n",
       "       'Wi-Fi 6E(802.11ax) Dual band) 2 x 2', 'Wi-Fi 6 ',\n",
       "       'Intel Wi-Fi 6 AX201', 'IEEE 802.11ax (2x2)',\n",
       "       'Realtek RTL8822CE 802.11a/b/g/n/ac (2x2) Wi-F',\n",
       "       'Wi-Fi 6 (802.11ax) Dual Band (2x2)', 'IEEE 802.11ax (Wi-Fi 6)',\n",
       "       'Intel Wi-Fi 6', 'Killer ax Wi-Fi 6E, Killer ax Wi-Fi 6E',\n",
       "       'Intel Wi-Fi 6 (2x2) Gig+ ', 'MediaTek Wi-Fi 6 MT7921 2x2',\n",
       "       '802.11a/b/g/n/ac wireless LAN', '802.11 b/g/n/ax', '11ax (2x2)',\n",
       "       'Intel Wi-Fi AX210 (2x2)', 'Wi-Fi 6 (802.11ax)',\n",
       "       'Wi-Fi 6E (802.11ax) Dual band) 2 x 2', 'IEEE 802.11 ac',\n",
       "       '11ac, 2x2', 'Intel Wi-Fi 6E AX211',\n",
       "       'Intel Killer Wi-Fi 6E AX1675(i)', 'Intel Wi-Fi 6E AX210(2x2)',\n",
       "       'Killer Wi-Fi 6 AX 1650i',\n",
       "       'Killer Wi-Fi 6 AX 1650i, 802.11a/b/g/n/ac R2+ax Wireless LAN',\n",
       "       'Intel® Killer™ AX Wi-Fi 6E, Intel® Killer™ AX Wi-Fi 6E',\n",
       "       'Wi-Fi 6E(802.11ax) Dual band) 2*2',\n",
       "       'MediaTek Wi-Fi 6E MT7922 (2x2)', 'Intel Wi-Fi 6 2x2 (Gig+ ',\n",
       "       'IEEE 802.11a/b/g/n/ac', 'Wi-Fi 6(802.11ax) Dual band (2*2)',\n",
       "       'Intel Wi-Fi 6 with Gig+ performance (802.11ax)',\n",
       "       'Killer Wi-Fi 6E AX1675',\n",
       "       'Killer Wireless Wi-Fi 6E 1675i 802.11 a/b/g/n/ac/ax wireless LAN',\n",
       "       'AX 2x2 ( 6)', 'Wi-Fi 6E(802.11ax) ', 'Wi-Fi 6E(802.11ax)',\n",
       "       'Wi-Fi 6(802.11ax) Dual band (2*2), Yes',\n",
       "       'Intel Wi-Fi 6 AX201(2x2 ax), Intel Wi-Fi 6 AX201(2*2 ax)',\n",
       "       'Wi-Fi 6E (802.11ax)',\n",
       "       'Killer Wi-Fi 6 AX 1650i, 802.11 a/b/g/n+acR2+ax wireless LAN',\n",
       "       'Wi-Fi 6 (802.11ax) Dual Band (2*2)', '802.11a/b/g/n/acR2+ax',\n",
       "       'Killer Wi-Fi 6 AX 1650i, 802.11 a/b/g/n+acR2+ax',\n",
       "       'Intel Wi-Fi 6 AX200(2*2 ax)',\n",
       "       'Killer Wi-Fi 6 AX 1650i, 802.11 a/b/g/n + acR2 + ax wireless LAN',\n",
       "       'Wi-Fi 6 11ax (2x2)', 'IEEE 802.11ac (1x1) Wi-Fi 5)',\n",
       "       'IEEE 802.11ac (Wi-Fi 5)', 'Intel Wi-Fi 6 AX 200 (2x2)',\n",
       "       'Wi-Fi 6 AX200 (IEEE 802.11 a/b/g/n+ac+ax)',\n",
       "       'Realtek RTL8822CE 802.11a/b/g/n/ac (2x2) Wi-Fi',\n",
       "       'Realtek RTL8822CE 802.11a/b/g/n/ac (2x2)',\n",
       "       'Intel Wireless 9462AC Card (80 2.11ac + Bluetooth 5.0, Dual B and 2.45 GHz, MU-MIMO/80Mhz, 1 x1), Intel Wireless 9462AC Card (80 2.11ac + Bluetooth 5.0, Dual B and 2.45 GHz, MU-MIMO/80Mhz, 1 x1)',\n",
       "       'YES', 'Wi-Fi 6(802.11ax), Wifi 6 Dual Band',\n",
       "       'IEEE 802.11a/b/g/n/ac/ax (Dual Band (2.4 GHz and 5 GHz) ',\n",
       "       'IEEE 802.11a/b/g/n/ac/ax (2x2)',\n",
       "       'Intel Wireless-AC 9560 (2x2 a/c)', 'Killer Wi-Fi 6 AX1650i',\n",
       "       'Intel Wireless Wi-Fi 6 (AX201)', 'Intel Wireless Wi-Fi 6 AX200',\n",
       "       'IEEE 802.11ac (2x2)', 'Intel Wi-Fi 6 AX201 (2x2 ax)',\n",
       "       'Intel AX200 (2x2) 6)', 'IEEE 802.11a/b/g/n/ac (Wi-Fi 6)',\n",
       "       'IEEE 802.11ax', 'Killer Wi-Fi 6 (AX1650)',\n",
       "       'Intel Wireless-AC 9560 (2x2 ac)', 'IEEE 802.11ac',\n",
       "       'IEEE 802.11 b/g/n/ac (2x2)', 'Realtek Wi-Fi 5 (2x2)',\n",
       "       'IEEE 802.11b/g/n/ac (2x2)', '2x2 AC', 'Intel Wireless-AC 9560',\n",
       "       'Killer 1550 (2x2)', '802.11a/b/g/n/ac', '802.11b/g/n/ac (2x2)',\n",
       "       '802.11ac', '802.11ax (2x2)',\n",
       "       'Intel Wi-Fi CERTIFIED 6 AX201 (2x2)', 'IEEE 802.11a',\n",
       "       'Killer Wi-Fi 6 AX1650', 'Killer Wireless 1550 (2x2)',\n",
       "       'IEEE 802.11ac/a/b/g/n', '802.11 ax Wi-Fi 6',\n",
       "       'Killer Wi-Fi 6 AX 1650i, 802.11 a/b/g/n+acR2', 'No',\n",
       "       'IEEE 802.11ax (2x2) Wi-Fi 6)', 'IEEE 802.11ax (Wi-Fi 6), WIFI 6',\n",
       "       'Intel Wi-Fi 6E AX210 (2x2)', 'Killer Wi-Fi 6 AX1650i (2x2)',\n",
       "       'Intel Wireless Wi-Fi 6 AX201', 'Intel Wireless Wi-Fi 6 (AX200)',\n",
       "       'Killer Wi-Fi 6 AX1650i (2x2 ax)', 'Killer Wireless 1550 2x2 AC',\n",
       "       'AzureWare AW-CB375NF (2x2)', 'Intel Wireless-AC 9560 (2x2)',\n",
       "       'Wi-Fi 5(802.11ac)', '802.11 b/g/n', 'AW-CB375NF', '802.11 ac ',\n",
       "       'Wi-Fi 5(802.11ac) 1*1', 'Wi-Fi 5(802.11ac',\n",
       "       'Integrated 802.11ac(2*2), Integrated 802.11 AC(2*2)',\n",
       "       'Intel® Wireless-AC 9560 802.11b/g/n/ac (2x2) Wi-Fi®',\n",
       "       'Wi-Fi 6(Gig+)(802.11ax)', 'Intel 9560', 'Killer Wireless-AC 1550',\n",
       "       '5(802.11ac) ', 'Dual Band', '802.11a/b/g/n/ac (2x2)',\n",
       "       'IEEE 802.11b/g/n/ac', 'Intel Wireless AC 9462 (1x1)',\n",
       "       'Integrated 10/100/1000 GbE', 'Integrated 802.11 AC (2x2)',\n",
       "       'Intel® 802.11ac (2x2)', 'Intel 3165 1x1 AC'], dtype=object)"
      ]
     },
     "execution_count": 27,
     "metadata": {},
     "output_type": "execute_result"
    }
   ],
   "source": [
    "# Too many unique values, I was just going to drop this feature\n",
    "data_laptops['WiFi'].unique()"
   ]
  },
  {
   "cell_type": "code",
   "execution_count": 28,
   "metadata": {},
   "outputs": [
    {
     "data": {
      "text/plain": [
       "array(['v5', 'v5.2', 'v5.1', 'Yes', 'v4', 'v6', 'v4.2', 'v4.1'],\n",
       "      dtype=object)"
      ]
     },
     "execution_count": 28,
     "metadata": {},
     "output_type": "execute_result"
    }
   ],
   "source": [
    "# I researched about this \"Bluetooth\" feature, and found it is not really a impactful parameter for a gaming laptop.\n",
    "# There are some \"Yes\" values which are ambiguous. At this case, I was just going to drop this feature.\n",
    "data_laptops['Bluetooth'].unique()"
   ]
  },
  {
   "cell_type": "code",
   "execution_count": 29,
   "metadata": {},
   "outputs": [
    {
     "data": {
      "text/plain": [
       "v5      367\n",
       "v5.2    199\n",
       "v5.1    192\n",
       "Yes     172\n",
       "v4.2     40\n",
       "v4.1     20\n",
       "v6       15\n",
       "v4       10\n",
       "Name: Bluetooth, dtype: int64"
      ]
     },
     "execution_count": 29,
     "metadata": {},
     "output_type": "execute_result"
    }
   ],
   "source": [
    "data_laptops['Bluetooth'].value_counts()"
   ]
  },
  {
   "cell_type": "code",
   "execution_count": 30,
   "metadata": {},
   "outputs": [
    {
     "data": {
      "text/plain": [
       "array(['1 x USB Type-C, 1 x USB 2.0', '1 x USB Type-C, 3 x USB 3.0',\n",
       "       '1 x USB Type-C, 2 x USB 3.0',\n",
       "       '1 x USB Type-C, 2 x USB 3.0, 1 x USB 2.0',\n",
       "       '1 x USB Type-C, 1 x USB 3.0',\n",
       "       '3 x USB Type-C, 4 x USB 3.0, 2 x USB 2.0',\n",
       "       '2 x USB Type-C, 2 x USB 3.0',\n",
       "       '1 x USB Type-C, 1 x USB 3.0, 2 x USB 2.0',\n",
       "       '3 x USB 3.0, 1 x USB 2.0', '2 x USB Type-C, 3 x USB 3.0',\n",
       "       '1 x USB Type-C, 1 x USB 3.0, 1 x USB 2.0', '3 x USB 3.0',\n",
       "       '4 x USB 3.0', '2 x USB 3.0', '2 x USB 3.0, 1 x USB 2.0',\n",
       "       '1 x USB 3.0, 2 x USB 2.0', '1 x USB Type-C, 4 x USB 3.0',\n",
       "       '2 x USB Type-C, 1 x USB 3.0, 1 x USB 2.0',\n",
       "       '2 x USB Type-C, 2 x USB 3.0, 1 x micro USB',\n",
       "       '1 x USB Type-C, 2 x USB 3.0, 2 x USB 2.0',\n",
       "       '4 x USB 3.0, 1 x USB 2.0', '3 x USB Type-C, 3 x USB 3.0',\n",
       "       '2 x USB Type-C, 1 x USB 3.0',\n",
       "       '1 x USB Type-C, 3 x USB 3.0, 1 x USB 2.0',\n",
       "       '1 x USB Type-C, 2 x USB 2.0', 'No USB Port',\n",
       "       '1 x USB Type-C, 3 x USB 2.0', '1 x USB 3.0', '1 x USB Type-C',\n",
       "       '2 x USB Type-C, 2 x USB 3.0, 1 x USB 2.0', '1 x USB 2.0',\n",
       "       '1 x USB 3.0, 1 x USB 2.0', '2 x USB 3.0, 2 x USB 2.0',\n",
       "       '1 x USB Type-C, 2 x USB 3.0, 3 x USB 2.0',\n",
       "       '1 x USB Type-C, 5 x USB 3.0', '2 x USB Type-C',\n",
       "       '2 x USB Type-C, 4 x USB 3.0', '5 x USB 3.0',\n",
       "       '2 x USB Type-C, 3 x USB 3.0, 1 x USB 2.0',\n",
       "       '1 x USB Type-C, 1 x USB 3.0, 3 x USB 2.0', '4 x USB Type-C',\n",
       "       '1 x USB Type-C, 3 x USB 3.0, 4 x USB 2.0'], dtype=object)"
      ]
     },
     "execution_count": 30,
     "metadata": {},
     "output_type": "execute_result"
    }
   ],
   "source": [
    "# Lets see if I could change it to a more consistent and structured format\n",
    "data_laptops['USB Ports'].unique()"
   ]
  },
  {
   "cell_type": "code",
   "execution_count": 31,
   "metadata": {},
   "outputs": [],
   "source": [
    "# Function to return the amount of USB ports based on its type\n",
    "def convertUSB(a,b):\n",
    "    if a == 'USB Type-C':\n",
    "        for i in b.split(', '):\n",
    "            if 'Type-C' in i:\n",
    "                return int(i[0])\n",
    "        else:\n",
    "            return 0\n",
    "    elif a == 'USB 3.0':\n",
    "        for i in b.split(', '):\n",
    "            if '3.0' in i:\n",
    "                return int(i[0])\n",
    "        else:\n",
    "            return 0\n",
    "    else:\n",
    "        for i in b.split(', '):\n",
    "            if '2.0' in i:\n",
    "                return int(i[0])\n",
    "        else:\n",
    "            return 0"
   ]
  },
  {
   "cell_type": "code",
   "execution_count": 32,
   "metadata": {},
   "outputs": [],
   "source": [
    "# Write the amount of usb ports based on its type\n",
    "USB_lists = ('USB Type-C', 'USB 3.0', 'USB 2.0')\n",
    "for i in USB_lists:\n",
    "    data_laptops[i] = [convertUSB(i,x) for x in data_laptops['USB Ports']]"
   ]
  },
  {
   "cell_type": "code",
   "execution_count": 33,
   "metadata": {},
   "outputs": [
    {
     "data": {
      "text/plain": [
       "array(['Yes', 'No', 'Yes, 1 MP', 'IR webcam with Windows Hello support',\n",
       "       'HP Wide Vision 720p HD Camera',\n",
       "       'Windows Hello Built-in IR HD webcam',\n",
       "       'HD 720p with ThinkShutter privacy cover',\n",
       "       'HP Wide Vision HD Webcam, 0.92 MP', 'HD Webcam, 0.92 MP',\n",
       "       'HD Webcam', 'Alienware HD Camera',\n",
       "       'Integrated Widescreen HD Webcam', 'HD 720P Webcam',\n",
       "       'Alienware Full HD Webcam', '720P HD front camera',\n",
       "       'HP TrueVision HD Webcam', '720P Front Camera', 'Yes, 2 MP',\n",
       "       'Alienware HD + IR Presence Detection Webcam', 'Full HD Webcam',\n",
       "       'yes',\n",
       "       'HP TrueVision HD Camera with integrated digital microphone, 0.92 MP',\n",
       "       'HP Wide Vision Full HD Webcam, 0.92 MP', 'HD', '0.3',\n",
       "       'HP Wide Vision HD Camera with dual array digital microphone, 0.92 MP'],\n",
       "      dtype=object)"
      ]
     },
     "execution_count": 33,
     "metadata": {},
     "output_type": "execute_result"
    }
   ],
   "source": [
    "data_laptops['Camera'].unique()"
   ]
  },
  {
   "cell_type": "code",
   "execution_count": 34,
   "metadata": {},
   "outputs": [],
   "source": [
    "def cameraConvert(i):\n",
    "    if i.lower() == 'no':\n",
    "        return 'No'\n",
    "    else:\n",
    "        return 'Yes'\n",
    "data_laptops['Camera'] = data_laptops['Camera'].apply(lambda x : cameraConvert(x))"
   ]
  },
  {
   "cell_type": "code",
   "execution_count": 35,
   "metadata": {},
   "outputs": [
    {
     "data": {
      "text/plain": [
       "Yes    888\n",
       "No     127\n",
       "Name: Camera, dtype: int64"
      ]
     },
     "execution_count": 35,
     "metadata": {},
     "output_type": "execute_result"
    }
   ],
   "source": [
    "data_laptops['Camera'].value_counts()"
   ]
  },
  {
   "cell_type": "code",
   "execution_count": 36,
   "metadata": {},
   "outputs": [
    {
     "data": {
      "text/plain": [
       "array(['HP Imagepad with Multi-Touch Gesture Support',\n",
       "       'Touchpad with Multi-touch Gesture Support', 'Yes',\n",
       "       'Precision Touchpad Support\\n',\n",
       "       'Trackpad with Windows Precision Driver', 'Multi-Gesture Touchpad',\n",
       "       'HP Imagepad with Multi-touch Gesture Support, Precision Touchpad Support',\n",
       "       'Precision Touchpad with Multi-Gesture Support',\n",
       "       'HP Imagepad with Multi-touch Gesture Support Precision Touchpad Support',\n",
       "       'No', 'Touch Pad', 'Multi-Touch Gestures Enabled',\n",
       "       'Multi-touch Gesture Support', 'Precision Touchpad Support',\n",
       "       'Multi-touch Touchpad',\n",
       "       'HP Imagepad with Multi-touch Gesture Support (Precision Touchpad Support)',\n",
       "       'Precision Touchpad Technology',\n",
       "       'with Multi-Touch Gestures Enabled',\n",
       "       'HP Imagepad with Multi-Touch Gesture Support, Precision Touchpad Support',\n",
       "       'Multi-touch Gesture Support, Precision Touchpad Support\\n',\n",
       "       'Multi-touch Gesture Support Precision Touchpad Support',\n",
       "       'Multi-touch Gesture Support ',\n",
       "       'Multi-Touch Gesture Support, Precision Touchpad Support\\n',\n",
       "       'HP Imagepad with Multi-touch Gesture Support',\n",
       "       ' multi-touch gesture support; Precision Support',\n",
       "       'HP Imagepad with multi-touch gesture support|| Precision Touchpad Support',\n",
       "       'TrackPad with Windows Precision Driver', 'Multi Touch',\n",
       "       'Multi-gesture Touchpad',\n",
       "       'Multi-gesture Touchpad, Supporting Two-finger Scroll; Pinch; Gestures to Open Cortana, Action Center, Multitasking; Application Commands',\n",
       "       'Multi-gesture Touchpad (Moisture Resistant)',\n",
       "       'ScreenPad Plus ((14 inch 3840 x 1100 Pixel (4K) IPS Panel Support Stylus) (with NumberPad Support))',\n",
       "       'Multi-Gesture Touch pad ', 'Multi-touch gesture support',\n",
       "       'Glass-covered intelligent palm-rejection Precision Touchpad',\n",
       "       'Multi Gesture Touchpad', 'Multi Gesture Support',\n",
       "       'Glass touchpad (Microsoft Precision Touchpad)',\n",
       "       'Clickable Glass Touchpad with Microsoft Precision',\n",
       "       'with Multi-touch Gesture Support', 'Touchpad',\n",
       "       'HP Imagepad with multi-touch gesture support Precision Touchpad Support',\n",
       "       'Multi Gesture Touchpad (Moisture Resistant)',\n",
       "       'with multi-touch gesture support',\n",
       "       'Multi-touch gesture support and NKRO Anti-Ghosting Key technology; Precision Support',\n",
       "       'Multi Gesture Touchpad with Two Buttons with Microsoft Precision Touchpad Certification',\n",
       "       'Multi-Touch Gesture, Precision Touchpad Support\\n',\n",
       "       'HP Imagepad with multi-touch gesture support; Precision Support',\n",
       "       'Multi-gesture Touchpad Supporting Two-finger Scroll, Pinch, Gestures to Open Cortana, Action Center, Multitasking, Application Commands), Microsoft Precision Touchpad Certification',\n",
       "       'All-points addressable (APA) trackpad',\n",
       "       'AlienFX Backlit, All-points Addressable Trackpad',\n",
       "       'Multi-gesture Touchpad (Supporting Two-finger Scroll, Pinch), Moisture Resistant',\n",
       "       'Multi-gesture Touchpad (Supporting Two-finger Scroll, Pinch, Gestures to Open Cortana, Action Center, Multitasking, Application Commands), Microsoft Precision Touchpad Certification, Moisture Resistant',\n",
       "       'Clickpad', 'HP Imagepad with multi-touch gesture support',\n",
       "       'HP Imagepad with multi-touch Gesture Support; Precision Touchpad Support',\n",
       "       'Multi Gesture ', 'Multi-touch Gesture support',\n",
       "       'Dual Functions Intelligent ',\n",
       "       'Touchpad with multi-touch gesture support'], dtype=object)"
      ]
     },
     "execution_count": 36,
     "metadata": {},
     "output_type": "execute_result"
    }
   ],
   "source": [
    "# Too many unique values, I was just going to drop this feature\n",
    "data_laptops['Touchpad'].unique()"
   ]
  },
  {
   "cell_type": "code",
   "execution_count": 37,
   "metadata": {},
   "outputs": [
    {
     "data": {
      "text/plain": [
       "array(['No', 'Yes', 'CD/DVD writer', 'No Optical Drive'], dtype=object)"
      ]
     },
     "execution_count": 37,
     "metadata": {},
     "output_type": "execute_result"
    }
   ],
   "source": [
    "data_laptops['Optical Drive'].unique()"
   ]
  },
  {
   "cell_type": "code",
   "execution_count": 38,
   "metadata": {},
   "outputs": [],
   "source": [
    "def ODConvert(i):\n",
    "    if \"no\" in i.lower():\n",
    "        return \"No\"\n",
    "    else:\n",
    "        return \"Yes\"\n",
    "data_laptops['Optical Drive'] = [ODConvert(x) for x in data_laptops['Optical Drive']]"
   ]
  },
  {
   "cell_type": "code",
   "execution_count": 39,
   "metadata": {},
   "outputs": [
    {
     "data": {
      "text/plain": [
       "No     1003\n",
       "Yes      12\n",
       "Name: Optical Drive, dtype: int64"
      ]
     },
     "execution_count": 39,
     "metadata": {},
     "output_type": "execute_result"
    }
   ],
   "source": [
    "data_laptops['Optical Drive'].value_counts()"
   ]
  },
  {
   "cell_type": "code",
   "execution_count": 40,
   "metadata": {},
   "outputs": [
    {
     "data": {
      "text/plain": [
       "array(['AMD Ryzen 5 ', 'Intel Core i5', 'AMD Ryzen 5', 'Intel Core i7',\n",
       "       'AMD Ryzen 7 ', 'AMD Ryzen 7', 'Core i7', 'Intel Core i9',\n",
       "       'Core i9', 'AMD Ryzen 9', 'AMD Ryzen 9 ', 'AMD Ryzen 7 6800H',\n",
       "       'Core i5', 'Intel Core i3', 'AMD Ryzen 7 5800H',\n",
       "       'AMD Ryzen 5 5600H', 'Intel Tiger Lake i7', ' Intel Core i7',\n",
       "       'Intel Core i5-10300H', 'Intel Core i7-11370H ',\n",
       "       'Intel Core i5-10300H ', 'AMD Ryzen 7 5800HS',\n",
       "       'AMD Ryzen 7 4800HS', 'Intel Core i5-9300H ', 'AMD Ryzen 5 4600H',\n",
       "       'Intel Core i7-8750H ', 'Intel', 'AMD', 'Intel ',\n",
       "       'Intel Core i9-9980HK ', 'Intel Core i9 9th Gen',\n",
       "       'Intel Core i7 9th Gen', 'Intel Core i9-8950HK',\n",
       "       'Intel Core i7-8750H', 'Intel Core i5-8300H',\n",
       "       'Intel Core i7 (7th Gen)', 'Intel Core i5 7th Gen 7300HQ',\n",
       "       'Intel Core i7 7th Gen 7700HQ', 'Intel Core i7-11800H',\n",
       "       'Intel Core i7-10750H ', 'Intel Core i7-9750H ',\n",
       "       'Intel Core i5 8th Gen 8300H', 'Intel Core i7 6th Gen',\n",
       "       'Intel Core i7-10870H ', 'Intel Core i7 7th Gen 7820HK',\n",
       "       'AMD Ryzen 7 4800H', 'Intel Core i9-10980HK ',\n",
       "       'Intel Core i7-10510U ', 'AMD Ryzen 5 3550H', 'AMD Ryzen 9 4900H',\n",
       "       'Intel Core i7-9700K', 'Intel Core i5-1035G1 ',\n",
       "       'Intel Core i7 10750H', 'Amd', 'AMD Ryzen 7 3750H',\n",
       "       'Intel Core i7-9750H', 'Intel Core i5-8265U ',\n",
       "       'Intel Core i5-8265U', 'Intel Core i7-8550U ',\n",
       "       'Intel Core i9-9900K', 'Intel Core i7-7700HQ',\n",
       "       'Intel Core i3-7100U', 'Intel Core i7-7820HK ',\n",
       "       'Intel Core i5-8250U ', 'Intel Core i7-8850H',\n",
       "       'Intel Core i7 (8th Gen)', 'Intel Core i3 7th Gen',\n",
       "       'Intel Core i7 8th Gen', 'Intel Core i5 7th Gen 7200U',\n",
       "       'Intel Core i7 6th Gen 6700HQ'], dtype=object)"
      ]
     },
     "execution_count": 40,
     "metadata": {},
     "output_type": "execute_result"
    }
   ],
   "source": [
    "# I was going to convert this feature to a more structured format\n",
    "data_laptops['Processor'].unique()"
   ]
  },
  {
   "cell_type": "code",
   "execution_count": 41,
   "metadata": {},
   "outputs": [
    {
     "data": {
      "text/plain": [
       "array(['AMD Ryzen 5 ', 'Intel Core i5', 'AMD Ryzen 5', 'Intel Core i7',\n",
       "       'AMD Ryzen 7 ', 'AMD Ryzen 7', 'Core i7', 'Intel Core i9',\n",
       "       'Core i9', 'AMD Ryzen 9', 'AMD Ryzen 9 ', 'AMD Ryzen 7 6800H',\n",
       "       'Core i5', 'Intel Core i3', 'AMD Ryzen 7 5800H',\n",
       "       'AMD Ryzen 5 5600H', 'Intel Tiger Lake i7', ' Intel Core i7',\n",
       "       'Intel Core i5-10300H', 'Intel Core i7-11370H ',\n",
       "       'Intel Core i5-10300H ', 'AMD Ryzen 7 5800HS',\n",
       "       'AMD Ryzen 7 4800HS', 'Intel Core i5-9300H ', 'AMD Ryzen 5 4600H',\n",
       "       'Intel Core i7-8750H ', 'Intel', 'AMD', 'Intel ',\n",
       "       'Intel Core i9-9980HK ', 'Intel Core i9 9th Gen',\n",
       "       'Intel Core i7 9th Gen', 'Intel Core i9-8950HK',\n",
       "       'Intel Core i7-8750H', 'Intel Core i5-8300H',\n",
       "       'Intel Core i7 (7th Gen)', 'Intel Core i5 7th Gen 7300HQ',\n",
       "       'Intel Core i7 7th Gen 7700HQ', 'Intel Core i7-11800H',\n",
       "       'Intel Core i7-10750H ', 'Intel Core i7-9750H ',\n",
       "       'Intel Core i5 8th Gen 8300H', 'Intel Core i7 6th Gen',\n",
       "       'Intel Core i7-10870H ', 'Intel Core i7 7th Gen 7820HK',\n",
       "       'AMD Ryzen 7 4800H', 'Intel Core i9-10980HK ',\n",
       "       'Intel Core i7-10510U ', 'AMD Ryzen 5 3550H', 'AMD Ryzen 9 4900H',\n",
       "       'Intel Core i7-9700K', 'Intel Core i5-1035G1 ',\n",
       "       'Intel Core i7 10750H', 'Amd', 'AMD Ryzen 7 3750H',\n",
       "       'Intel Core i7-9750H', 'Intel Core i5-8265U ',\n",
       "       'Intel Core i5-8265U', 'Intel Core i7-8550U ',\n",
       "       'Intel Core i9-9900K', 'Intel Core i7-7700HQ',\n",
       "       'Intel Core i3-7100U', 'Intel Core i7-7820HK ',\n",
       "       'Intel Core i5-8250U ', 'Intel Core i7-8850H',\n",
       "       'Intel Core i7 (8th Gen)', 'Intel Core i3 7th Gen',\n",
       "       'Intel Core i7 8th Gen', 'Intel Core i5 7th Gen 7200U',\n",
       "       'Intel Core i7 6th Gen 6700HQ'], dtype=object)"
      ]
     },
     "execution_count": 41,
     "metadata": {},
     "output_type": "execute_result"
    }
   ],
   "source": [
    "data_laptops['Processor'].unique()"
   ]
  },
  {
   "cell_type": "code",
   "execution_count": 42,
   "metadata": {},
   "outputs": [],
   "source": [
    "data_laptops['Processor'] = data_laptops['Processor'].apply(lambda x : ' '.join(x.split()[:3]))"
   ]
  },
  {
   "cell_type": "code",
   "execution_count": 43,
   "metadata": {},
   "outputs": [],
   "source": [
    "data_laptops['Processor'] = [x.split('-')[0] for x in data_laptops['Processor']]"
   ]
  },
  {
   "cell_type": "code",
   "execution_count": 44,
   "metadata": {},
   "outputs": [
    {
     "data": {
      "text/plain": [
       "Intel Core i7       331\n",
       "Intel Core i5       232\n",
       "AMD Ryzen 7         154\n",
       "AMD Ryzen 5         117\n",
       "AMD Ryzen 9          82\n",
       "Intel Core i9        55\n",
       "Intel                28\n",
       "Intel Core i3         5\n",
       "Amd                   3\n",
       "Core i7               2\n",
       "Core i9               2\n",
       "Intel Tiger Lake      2\n",
       "Core i5               1\n",
       "AMD                   1\n",
       "Name: Processor, dtype: int64"
      ]
     },
     "execution_count": 44,
     "metadata": {},
     "output_type": "execute_result"
    }
   ],
   "source": [
    "data_laptops['Processor'].value_counts()"
   ]
  },
  {
   "cell_type": "code",
   "execution_count": 45,
   "metadata": {},
   "outputs": [],
   "source": [
    "def processorConvert(i):\n",
    "    if \"i9\" in i.split():\n",
    "        return \"Intel Core i9\"\n",
    "    elif \"i7\" in i.split():\n",
    "        return \"Intel Core i7\"\n",
    "    elif \"i5\" in i.split():\n",
    "        return \"Intel Core i5\"\n",
    "    elif i.lower() == \"amd\":\n",
    "        return \"AMD Ryzen 7\"\n",
    "    elif i.lower() == \"intel\":\n",
    "        return \"Intel Core i7\"\n",
    "    else:\n",
    "        return i\n",
    "data_laptops['Processor'] = data_laptops['Processor'].apply(lambda x : processorConvert(x))"
   ]
  },
  {
   "cell_type": "code",
   "execution_count": 46,
   "metadata": {},
   "outputs": [
    {
     "data": {
      "text/plain": [
       "Intel Core i7       361\n",
       "Intel Core i5       233\n",
       "AMD Ryzen 7         158\n",
       "AMD Ryzen 5         117\n",
       "AMD Ryzen 9          82\n",
       "Intel Core i9        57\n",
       "Intel Core i3         5\n",
       "Intel Tiger Lake      2\n",
       "Name: Processor, dtype: int64"
      ]
     },
     "execution_count": 46,
     "metadata": {},
     "output_type": "execute_result"
    }
   ],
   "source": [
    "data_laptops['Processor'].value_counts()"
   ]
  },
  {
   "cell_type": "code",
   "execution_count": 47,
   "metadata": {},
   "outputs": [
    {
     "data": {
      "text/plain": [
       "array(['NVIDIA', 'AMD', 'NVIDIA ', 'AMD ', 'Nvidia ', 'Intel ', 'Intel',\n",
       "       'Nvidia', 'NVIDIA  ', '4 GB', 'NVIDIA GeForce GTX 1050'],\n",
       "      dtype=object)"
      ]
     },
     "execution_count": 47,
     "metadata": {},
     "output_type": "execute_result"
    }
   ],
   "source": [
    "data_laptops['Brand'].unique()"
   ]
  },
  {
   "cell_type": "code",
   "execution_count": 48,
   "metadata": {},
   "outputs": [],
   "source": [
    "def brandConvert(i):\n",
    "    i = i.lower()\n",
    "    if \"nvidia\" in i:\n",
    "        return \"NVIDIA\"\n",
    "    elif \"amd\" in i:\n",
    "        return \"AMD\"\n",
    "    elif \"intel\" in i:\n",
    "        return \"INTEL\"\n",
    "    else:\n",
    "        return \"NVIDIA\"\n",
    "data_laptops['Brand'] = data_laptops['Brand'].apply(lambda x : brandConvert(x))"
   ]
  },
  {
   "cell_type": "code",
   "execution_count": 49,
   "metadata": {},
   "outputs": [
    {
     "data": {
      "text/plain": [
       "NVIDIA    942\n",
       "AMD        43\n",
       "INTEL      30\n",
       "Name: Brand, dtype: int64"
      ]
     },
     "execution_count": 49,
     "metadata": {},
     "output_type": "execute_result"
    }
   ],
   "source": [
    "data_laptops['Brand'].value_counts()"
   ]
  },
  {
   "cell_type": "code",
   "execution_count": 50,
   "metadata": {},
   "outputs": [
    {
     "data": {
      "text/plain": [
       "array(['8 GB DDR4', '16 GB DDR4', '16 GB DDR5', '16 GB', '16 GB LPDDR5',\n",
       "       '32 GB DDR5', '16 GB DDR5 ', '16 GB LPDDR4X', '64 GB DDR5',\n",
       "       '32 GB DDR4 ', '8 GB', '32 GB DDR4', '32 GB DDR5 ', '8 GB DDR5',\n",
       "       '32 GB LPDDR5', '8 GB DDR4 ', '64 GB DDR4', '16 GB DDR4 ',\n",
       "       '16 GB DDR', '32 GB LPDDR4X', '12 GB DDR4', '16 GB LPDDR4X ',\n",
       "       '4 GB DDR4', '32 GB', '8 GB DDR3', '8 GB DDR4 VRAM'], dtype=object)"
      ]
     },
     "execution_count": 50,
     "metadata": {},
     "output_type": "execute_result"
    }
   ],
   "source": [
    "data_laptops['RAM'].unique()"
   ]
  },
  {
   "cell_type": "code",
   "execution_count": 51,
   "metadata": {},
   "outputs": [
    {
     "name": "stdout",
     "output_type": "stream",
     "text": [
      "8 GB DDR4\n",
      "8 GB\n",
      "8 GB DDR5\n",
      "8 GB DDR4 \n",
      "8 GB DDR3\n",
      "8 GB DDR4 VRAM\n"
     ]
    }
   ],
   "source": [
    "# Checking overlap variables for RAM column\n",
    "for i in data_laptops['RAM'].unique():\n",
    "    if \"8\" in i:\n",
    "        print(i)"
   ]
  },
  {
   "cell_type": "code",
   "execution_count": 52,
   "metadata": {},
   "outputs": [
    {
     "name": "stdout",
     "output_type": "stream",
     "text": [
      "16 GB DDR4\n",
      "16 GB DDR5\n",
      "16 GB\n",
      "16 GB LPDDR5\n",
      "16 GB DDR5 \n",
      "16 GB LPDDR4X\n",
      "16 GB DDR4 \n",
      "16 GB DDR\n",
      "16 GB LPDDR4X \n"
     ]
    }
   ],
   "source": [
    "for i in data_laptops['RAM'].unique():\n",
    "    if \"16\" in i:\n",
    "        print(i)"
   ]
  },
  {
   "cell_type": "code",
   "execution_count": 53,
   "metadata": {},
   "outputs": [
    {
     "name": "stdout",
     "output_type": "stream",
     "text": [
      "32 GB DDR5\n",
      "32 GB DDR4 \n",
      "32 GB DDR4\n",
      "32 GB DDR5 \n",
      "32 GB LPDDR5\n",
      "32 GB LPDDR4X\n",
      "32 GB\n"
     ]
    }
   ],
   "source": [
    "for i in data_laptops['RAM'].unique():\n",
    "    if \"32\" in i:\n",
    "        print(i)"
   ]
  },
  {
   "cell_type": "code",
   "execution_count": 54,
   "metadata": {},
   "outputs": [],
   "source": [
    "def ramConvert(i):\n",
    "    i = i.lower()\n",
    "    if \"8\" in i:\n",
    "        if \"ddr3\" in i:\n",
    "            return \"8 GB DDR3\"\n",
    "        elif \"ddr4\" in i:\n",
    "            return \"8 GB DDR4\"\n",
    "        elif \"ddr5\" in i:\n",
    "            return \"8 GB DDR5\"\n",
    "        else:\n",
    "            return i.upper()\n",
    "    elif \"16\" in i:\n",
    "        if \"lpddr4x\" in i:\n",
    "            return \"16 GB LPDDR4X\"\n",
    "        elif \"lpddr5\" in i:\n",
    "            return \"16 GB LPDDR5\"\n",
    "        elif \"ddr4l\" in i:\n",
    "            return \"16 GB DDR4L\"\n",
    "        elif \"ddr5\" in i:\n",
    "            return \"16 GB DDR5\"\n",
    "        elif \"ddr4\" in i:\n",
    "            return \"16 GB DDR4\"\n",
    "        else:\n",
    "            return i.upper()\n",
    "    elif \"32\" in i:\n",
    "        if \"lpddr4x\" in i:\n",
    "            return \"32 GB LPDDR4X\"\n",
    "        elif \"lpddr5\" in i:\n",
    "            return \"32 GB LPDDR5\"\n",
    "        elif \"ddr5\" in i:\n",
    "            return \"32 GB DDR5\"\n",
    "        elif \"ddr4\" in i:\n",
    "            return \"32 GB DDR4\"\n",
    "        else:\n",
    "            return i.upper()\n",
    "    else:\n",
    "        return i.upper()\n",
    "data_laptops['RAM'] = data_laptops['RAM'].apply(lambda x: ramConvert(x))"
   ]
  },
  {
   "cell_type": "code",
   "execution_count": 55,
   "metadata": {},
   "outputs": [],
   "source": [
    "# Feature lists that I wanted to drop\n",
    "drop_list = ['Model','Utility','WiFi','Bluetooth','USB Ports','Touchpad']\n",
    "data_laptops.drop(drop_list, axis=1, inplace=True)"
   ]
  },
  {
   "cell_type": "code",
   "execution_count": 56,
   "metadata": {},
   "outputs": [
    {
     "data": {
      "text/html": [
       "<div>\n",
       "<style scoped>\n",
       "    .dataframe tbody tr th:only-of-type {\n",
       "        vertical-align: middle;\n",
       "    }\n",
       "\n",
       "    .dataframe tbody tr th {\n",
       "        vertical-align: top;\n",
       "    }\n",
       "\n",
       "    .dataframe thead th {\n",
       "        text-align: right;\n",
       "    }\n",
       "</style>\n",
       "<table border=\"1\" class=\"dataframe\">\n",
       "  <thead>\n",
       "    <tr style=\"text-align: right;\">\n",
       "      <th></th>\n",
       "      <th>Laptop Brand</th>\n",
       "      <th>Price</th>\n",
       "      <th>OS</th>\n",
       "      <th>Warranty</th>\n",
       "      <th>Touch</th>\n",
       "      <th>Anti Glare Screen</th>\n",
       "      <th>Camera</th>\n",
       "      <th>Optical Drive</th>\n",
       "      <th>Processor</th>\n",
       "      <th>Brand</th>\n",
       "      <th>GPU</th>\n",
       "      <th>RAM</th>\n",
       "      <th>USB Type-C</th>\n",
       "      <th>USB 3.0</th>\n",
       "      <th>USB 2.0</th>\n",
       "    </tr>\n",
       "  </thead>\n",
       "  <tbody>\n",
       "    <tr>\n",
       "      <th>0</th>\n",
       "      <td>HP</td>\n",
       "      <td>9425614.5</td>\n",
       "      <td>Windows 10 Home</td>\n",
       "      <td>1</td>\n",
       "      <td>No</td>\n",
       "      <td>Yes</td>\n",
       "      <td>Yes</td>\n",
       "      <td>No</td>\n",
       "      <td>AMD Ryzen 5</td>\n",
       "      <td>NVIDIA</td>\n",
       "      <td>NVIDIA GeForce GTX 1650</td>\n",
       "      <td>8 GB DDR4</td>\n",
       "      <td>1</td>\n",
       "      <td>0</td>\n",
       "      <td>1</td>\n",
       "    </tr>\n",
       "    <tr>\n",
       "      <th>1</th>\n",
       "      <td>Acer</td>\n",
       "      <td>10368364.5</td>\n",
       "      <td>Windows 11 Home</td>\n",
       "      <td>1</td>\n",
       "      <td>No</td>\n",
       "      <td>No</td>\n",
       "      <td>Yes</td>\n",
       "      <td>No</td>\n",
       "      <td>Intel Core i5</td>\n",
       "      <td>NVIDIA</td>\n",
       "      <td>NVIDIA GeForce GTX 1650</td>\n",
       "      <td>8 GB DDR4</td>\n",
       "      <td>1</td>\n",
       "      <td>3</td>\n",
       "      <td>0</td>\n",
       "    </tr>\n",
       "    <tr>\n",
       "      <th>2</th>\n",
       "      <td>Acer</td>\n",
       "      <td>11311114.5</td>\n",
       "      <td>Windows 11 Home</td>\n",
       "      <td>1</td>\n",
       "      <td>No</td>\n",
       "      <td>No</td>\n",
       "      <td>Yes</td>\n",
       "      <td>No</td>\n",
       "      <td>Intel Core i5</td>\n",
       "      <td>NVIDIA</td>\n",
       "      <td>NVIDIA GeForce RTX 3050</td>\n",
       "      <td>8 GB DDR4</td>\n",
       "      <td>1</td>\n",
       "      <td>3</td>\n",
       "      <td>0</td>\n",
       "    </tr>\n",
       "    <tr>\n",
       "      <th>3</th>\n",
       "      <td>Lenovo</td>\n",
       "      <td>10653075.0</td>\n",
       "      <td>Windows 11 Home</td>\n",
       "      <td>1</td>\n",
       "      <td>No</td>\n",
       "      <td>Yes</td>\n",
       "      <td>Yes</td>\n",
       "      <td>No</td>\n",
       "      <td>Intel Core i5</td>\n",
       "      <td>NVIDIA</td>\n",
       "      <td>NVIDIA GeForce RTX 3050</td>\n",
       "      <td>8 GB DDR4</td>\n",
       "      <td>1</td>\n",
       "      <td>2</td>\n",
       "      <td>0</td>\n",
       "    </tr>\n",
       "    <tr>\n",
       "      <th>4</th>\n",
       "      <td>ASUS</td>\n",
       "      <td>10368364.5</td>\n",
       "      <td>Windows 11 Home</td>\n",
       "      <td>1</td>\n",
       "      <td>No</td>\n",
       "      <td>Yes</td>\n",
       "      <td>Yes</td>\n",
       "      <td>No</td>\n",
       "      <td>AMD Ryzen 5</td>\n",
       "      <td>AMD</td>\n",
       "      <td>AMD Radeon Vega 7</td>\n",
       "      <td>16 GB DDR4</td>\n",
       "      <td>1</td>\n",
       "      <td>2</td>\n",
       "      <td>1</td>\n",
       "    </tr>\n",
       "    <tr>\n",
       "      <th>5</th>\n",
       "      <td>HP</td>\n",
       "      <td>14893564.5</td>\n",
       "      <td>Windows 11 Home</td>\n",
       "      <td>1</td>\n",
       "      <td>No</td>\n",
       "      <td>Yes</td>\n",
       "      <td>Yes</td>\n",
       "      <td>No</td>\n",
       "      <td>Intel Core i5</td>\n",
       "      <td>NVIDIA</td>\n",
       "      <td>NVIDIA GeForce RTX 3050</td>\n",
       "      <td>16 GB DDR4</td>\n",
       "      <td>1</td>\n",
       "      <td>1</td>\n",
       "      <td>0</td>\n",
       "    </tr>\n",
       "    <tr>\n",
       "      <th>6</th>\n",
       "      <td>Lenovo</td>\n",
       "      <td>9802714.5</td>\n",
       "      <td>Windows 11 Home</td>\n",
       "      <td>1</td>\n",
       "      <td>No</td>\n",
       "      <td>Yes</td>\n",
       "      <td>Yes</td>\n",
       "      <td>No</td>\n",
       "      <td>Intel Core i5</td>\n",
       "      <td>NVIDIA</td>\n",
       "      <td>NVIDIA GeForce GTX 1650</td>\n",
       "      <td>8 GB DDR4</td>\n",
       "      <td>1</td>\n",
       "      <td>2</td>\n",
       "      <td>1</td>\n",
       "    </tr>\n",
       "    <tr>\n",
       "      <th>7</th>\n",
       "      <td>MSI</td>\n",
       "      <td>11311114.5</td>\n",
       "      <td>Windows 10 Home</td>\n",
       "      <td>2</td>\n",
       "      <td>No</td>\n",
       "      <td>Yes</td>\n",
       "      <td>Yes</td>\n",
       "      <td>No</td>\n",
       "      <td>Intel Core i7</td>\n",
       "      <td>NVIDIA</td>\n",
       "      <td>NVIDIA GTX1650 Max-Q</td>\n",
       "      <td>8 GB DDR4</td>\n",
       "      <td>1</td>\n",
       "      <td>3</td>\n",
       "      <td>0</td>\n",
       "    </tr>\n",
       "  </tbody>\n",
       "</table>\n",
       "</div>"
      ],
      "text/plain": [
       "  Laptop Brand       Price               OS  Warranty Touch Anti Glare Screen  \\\n",
       "0           HP   9425614.5  Windows 10 Home         1    No               Yes   \n",
       "1         Acer  10368364.5  Windows 11 Home         1    No                No   \n",
       "2         Acer  11311114.5  Windows 11 Home         1    No                No   \n",
       "3       Lenovo  10653075.0  Windows 11 Home         1    No               Yes   \n",
       "4         ASUS  10368364.5  Windows 11 Home         1    No               Yes   \n",
       "5           HP  14893564.5  Windows 11 Home         1    No               Yes   \n",
       "6       Lenovo   9802714.5  Windows 11 Home         1    No               Yes   \n",
       "7          MSI  11311114.5  Windows 10 Home         2    No               Yes   \n",
       "\n",
       "  Camera Optical Drive      Processor   Brand                      GPU  \\\n",
       "0    Yes            No    AMD Ryzen 5  NVIDIA  NVIDIA GeForce GTX 1650   \n",
       "1    Yes            No  Intel Core i5  NVIDIA  NVIDIA GeForce GTX 1650   \n",
       "2    Yes            No  Intel Core i5  NVIDIA  NVIDIA GeForce RTX 3050   \n",
       "3    Yes            No  Intel Core i5  NVIDIA  NVIDIA GeForce RTX 3050   \n",
       "4    Yes            No    AMD Ryzen 5     AMD        AMD Radeon Vega 7   \n",
       "5    Yes            No  Intel Core i5  NVIDIA  NVIDIA GeForce RTX 3050   \n",
       "6    Yes            No  Intel Core i5  NVIDIA  NVIDIA GeForce GTX 1650   \n",
       "7    Yes            No  Intel Core i7  NVIDIA     NVIDIA GTX1650 Max-Q   \n",
       "\n",
       "          RAM  USB Type-C  USB 3.0  USB 2.0  \n",
       "0   8 GB DDR4           1        0        1  \n",
       "1   8 GB DDR4           1        3        0  \n",
       "2   8 GB DDR4           1        3        0  \n",
       "3   8 GB DDR4           1        2        0  \n",
       "4  16 GB DDR4           1        2        1  \n",
       "5  16 GB DDR4           1        1        0  \n",
       "6   8 GB DDR4           1        2        1  \n",
       "7   8 GB DDR4           1        3        0  "
      ]
     },
     "execution_count": 56,
     "metadata": {},
     "output_type": "execute_result"
    }
   ],
   "source": [
    "no_null_list = []\n",
    "for i in data_laptops.columns:\n",
    "    if data_laptops[i].isnull().sum() == 0:\n",
    "        no_null_list.append(i)\n",
    "data_laptops[no_null_list].head(8)"
   ]
  },
  {
   "cell_type": "code",
   "execution_count": 57,
   "metadata": {},
   "outputs": [
    {
     "data": {
      "text/plain": [
       "0"
      ]
     },
     "execution_count": 57,
     "metadata": {},
     "output_type": "execute_result"
    }
   ],
   "source": [
    "data_laptops[no_null_list].isnull().sum().sum()"
   ]
  },
  {
   "cell_type": "code",
   "execution_count": null,
   "metadata": {},
   "outputs": [],
   "source": [
    "# Export the datas\n",
    "data_laptops.to_csv(\"Data Laptops Combine.csv\", index=False)"
   ]
  }
 ],
 "metadata": {
  "kernelspec": {
   "display_name": "base",
   "language": "python",
   "name": "python3"
  },
  "language_info": {
   "codemirror_mode": {
    "name": "ipython",
    "version": 3
   },
   "file_extension": ".py",
   "mimetype": "text/x-python",
   "name": "python",
   "nbconvert_exporter": "python",
   "pygments_lexer": "ipython3",
   "version": "3.9.12 (main, Apr  4 2022, 05:22:27) [MSC v.1916 64 bit (AMD64)]"
  },
  "orig_nbformat": 4,
  "vscode": {
   "interpreter": {
    "hash": "88279d2366fe020547cde40dd65aa0e3aa662a6ec1f3ca12d88834876c85e1a6"
   }
  }
 },
 "nbformat": 4,
 "nbformat_minor": 2
}
